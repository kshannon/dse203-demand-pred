{
 "cells": [
  {
   "cell_type": "markdown",
   "metadata": {},
   "source": [
    "# Demand Prediction Integrated Schema Team Demo Notebook# "
   ]
  },
  {
   "cell_type": "markdown",
   "metadata": {},
   "source": [
    "### Import Integrated Schema related code ### "
   ]
  },
  {
   "cell_type": "code",
   "execution_count": 1,
   "metadata": {
    "collapsed": true
   },
   "outputs": [],
   "source": [
    "import Datalog_Parsing as dp\n",
    "from Mediator import Mediator\n",
    "md = Mediator()"
   ]
  },
  {
   "cell_type": "markdown",
   "metadata": {},
   "source": [
    "### Sample call to unfold a datalog query ###"
   ]
  },
  {
   "cell_type": "code",
   "execution_count": 2,
   "metadata": {},
   "outputs": [
    {
     "data": {
      "text/plain": [
       "u'Ans(nodeid,yr,mn,sales,vol,pm_sales,pm_vol,p3m_sales,p3m_vol,p12m_sales,p12m_vol,pm_numreviews,pm_avgrating,p3m_numreviews,p3m_avgrating,p12m_numreviews,p12m_avgrating,pm_avgsntp,p3m_avgsntp,p12m_avgsntp):-S1.mv_ml_features(nodeid,yr,mn,sales,vol,pm_sales,pm_vol,p3m_sales,p3m_vol,p12m_sales,p12m_vol,pm_numreviews,pm_avgrating,p3m_numreviews,p3m_avgrating,p12m_numreviews,p12m_avgrating),S2.mlview(nodeid,yr,mn,pm_avgsntp,p3m_avgsntp,p12m_avgsntp),nodeid in (15,45,121)'"
      ]
     },
     "execution_count": 2,
     "metadata": {},
     "output_type": "execute_result"
    }
   ],
   "source": [
    "input_datalog = ('''Ans ( nodeid, yr, mn, sales, vol, pm_sales, pm_vol, p3m_sales, p3m_vol,\n",
    "    p12m_sales, p12m_vol, pm_numreviews, pm_avgrating, p3m_numreviews, p3m_avgrating,\n",
    "    p12m_numreviews, p12m_avgrating, pm_avgsntp, p3m_avgsntp, p12m_avgsntp ) :-\n",
    " mlfeatures ( nodeid, yr, mn, sales, vol, pm_sales, pm_vol, p3m_sales, p3m_vol,\n",
    "     p12m_sales, p12m_vol, pm_numreviews, pm_avgrating, p3m_numreviews, p3m_avgrating,\n",
    "     p12m_numreviews, p12m_avgrating, pm_avgsntp, p3m_avgsntp, p12m_avgsntp ) ,\n",
    "     nodeid in (15, 45, 121)\n",
    "''')\n",
    "\n",
    "md.unfold_datalog(input_datalog)[0]"
   ]
  },
  {
   "cell_type": "markdown",
   "metadata": {},
   "source": [
    "# Query Validation Examples"
   ]
  },
  {
   "cell_type": "markdown",
   "metadata": {},
   "source": [
    "### Correct number of body atoms"
   ]
  },
  {
   "cell_type": "code",
   "execution_count": 3,
   "metadata": {},
   "outputs": [
    {
     "ename": "Exception",
     "evalue": "wrong number of atoms in sales_agg_mn",
     "output_type": "error",
     "traceback": [
      "\u001b[0;31m---------------------------------------------------------------------------\u001b[0m",
      "\u001b[0;31mException\u001b[0m                                 Traceback (most recent call last)",
      "\u001b[0;32m<ipython-input-3-bae932eed97b>\u001b[0m in \u001b[0;36m<module>\u001b[0;34m()\u001b[0m\n\u001b[1;32m      4\u001b[0m     mn=12, rank_vol<=3'''\n\u001b[1;32m      5\u001b[0m \u001b[0;34m\u001b[0m\u001b[0m\n\u001b[0;32m----> 6\u001b[0;31m \u001b[0mmd\u001b[0m\u001b[0;34m.\u001b[0m\u001b[0munfold_datalog\u001b[0m\u001b[0;34m(\u001b[0m\u001b[0mquery\u001b[0m\u001b[0;34m)\u001b[0m\u001b[0;34m[\u001b[0m\u001b[0;36m0\u001b[0m\u001b[0;34m]\u001b[0m\u001b[0;34m\u001b[0m\u001b[0m\n\u001b[0m",
      "\u001b[0;32m/Users/joshwilson/Documents/DSE/2017FA-DSE203/dse203-demand-pred/final-demo/SCHEMA/Mediator.pyc\u001b[0m in \u001b[0;36munfold_datalog\u001b[0;34m(self, datalog)\u001b[0m\n\u001b[1;32m    324\u001b[0m                 \u001b[0;31m# validate datalog\u001b[0m\u001b[0;34m\u001b[0m\u001b[0;34m\u001b[0m\u001b[0m\n\u001b[1;32m    325\u001b[0m                 \u001b[0;32mfor\u001b[0m \u001b[0mdatalog_string\u001b[0m \u001b[0;32min\u001b[0m \u001b[0mdp\u001b[0m\u001b[0;34m.\u001b[0m\u001b[0mprocessDatalog\u001b[0m\u001b[0;34m(\u001b[0m\u001b[0mdatalog\u001b[0m\u001b[0;34m)\u001b[0m\u001b[0;34m[\u001b[0m\u001b[0;34m'single_strings'\u001b[0m\u001b[0;34m]\u001b[0m\u001b[0;34m:\u001b[0m\u001b[0;34m\u001b[0m\u001b[0m\n\u001b[0;32m--> 326\u001b[0;31m                         \u001b[0mself\u001b[0m\u001b[0;34m.\u001b[0m\u001b[0mvalidateDatalogAtoms\u001b[0m\u001b[0;34m(\u001b[0m\u001b[0mdatalog_string\u001b[0m\u001b[0;34m)\u001b[0m\u001b[0;34m\u001b[0m\u001b[0m\n\u001b[0m\u001b[1;32m    327\u001b[0m                         \u001b[0mself\u001b[0m\u001b[0;34m.\u001b[0m\u001b[0mvalidateDatalogHead\u001b[0m\u001b[0;34m(\u001b[0m\u001b[0mdatalog_string\u001b[0m\u001b[0;34m)\u001b[0m\u001b[0;34m\u001b[0m\u001b[0m\n\u001b[1;32m    328\u001b[0m                         \u001b[0mself\u001b[0m\u001b[0;34m.\u001b[0m\u001b[0mvalidateDatalogConds\u001b[0m\u001b[0;34m(\u001b[0m\u001b[0mdatalog_string\u001b[0m\u001b[0;34m)\u001b[0m\u001b[0;34m\u001b[0m\u001b[0m\n",
      "\u001b[0;32m/Users/joshwilson/Documents/DSE/2017FA-DSE203/dse203-demand-pred/final-demo/SCHEMA/Mediator.pyc\u001b[0m in \u001b[0;36mvalidateDatalogAtoms\u001b[0;34m(self, datalog)\u001b[0m\n\u001b[1;32m     31\u001b[0m                                         \u001b[0;32mif\u001b[0m \u001b[0mactual_num_atoms\u001b[0m \u001b[0;34m!=\u001b[0m \u001b[0mexpected_num_atoms\u001b[0m\u001b[0;34m:\u001b[0m\u001b[0;34m\u001b[0m\u001b[0m\n\u001b[1;32m     32\u001b[0m                                                 \u001b[0merr_string\u001b[0m \u001b[0;34m=\u001b[0m \u001b[0;34m'wrong number of atoms in {}'\u001b[0m\u001b[0;34m.\u001b[0m\u001b[0mformat\u001b[0m\u001b[0;34m(\u001b[0m\u001b[0mpred\u001b[0m\u001b[0;34m)\u001b[0m\u001b[0;34m\u001b[0m\u001b[0m\n\u001b[0;32m---> 33\u001b[0;31m                                                 \u001b[0;32mraise\u001b[0m \u001b[0mException\u001b[0m\u001b[0;34m(\u001b[0m\u001b[0merr_string\u001b[0m\u001b[0;34m)\u001b[0m\u001b[0;34m\u001b[0m\u001b[0m\n\u001b[0m\u001b[1;32m     34\u001b[0m                                         \u001b[0;32melse\u001b[0m\u001b[0;34m:\u001b[0m\u001b[0;34m\u001b[0m\u001b[0m\n\u001b[1;32m     35\u001b[0m                                                 \u001b[0;32mpass\u001b[0m\u001b[0;34m\u001b[0m\u001b[0m\n",
      "\u001b[0;31mException\u001b[0m: wrong number of atoms in sales_agg_mn"
     ]
    }
   ],
   "source": [
    "# validation on number of body atoms fails\n",
    "query = '''Ans (nodeid, sales, vol) :- \n",
    "    sales_agg_mn (nodeid, mn, sales, vol, _, _, rank_vol, EXTRA),\n",
    "    mn=12, rank_vol<=3'''\n",
    "\n",
    "md.unfold_datalog(query)[0]"
   ]
  },
  {
   "cell_type": "code",
   "execution_count": 4,
   "metadata": {},
   "outputs": [
    {
     "data": {
      "text/plain": [
       "u'Ans(nodeid,sales,vol):-S1.sales_agg_mn(nodeid,mn,sales,vol,_,_,rank_vol),mn=12,rank_vol<=3'"
      ]
     },
     "execution_count": 4,
     "metadata": {},
     "output_type": "execute_result"
    }
   ],
   "source": [
    "# same query with correct number of body atoms unfolds\n",
    "query = '''Ans (nodeid, sales, vol) :- \n",
    "    sales_agg_mn (nodeid, mn, sales, vol, _, _, rank_vol),\n",
    "    mn=12, rank_vol<=3'''\n",
    "\n",
    "md.unfold_datalog(query)[0]"
   ]
  },
  {
   "cell_type": "markdown",
   "metadata": {},
   "source": [
    "### Head atoms must appear in body"
   ]
  },
  {
   "cell_type": "code",
   "execution_count": 5,
   "metadata": {},
   "outputs": [
    {
     "ename": "Exception",
     "evalue": "head attribute EXTRA is not in datalog body",
     "output_type": "error",
     "traceback": [
      "\u001b[0;31m---------------------------------------------------------------------------\u001b[0m",
      "\u001b[0;31mException\u001b[0m                                 Traceback (most recent call last)",
      "\u001b[0;32m<ipython-input-5-38268eb1cb51>\u001b[0m in \u001b[0;36m<module>\u001b[0;34m()\u001b[0m\n\u001b[1;32m      4\u001b[0m     mn=12, rank_vol<=3'''\n\u001b[1;32m      5\u001b[0m \u001b[0;34m\u001b[0m\u001b[0m\n\u001b[0;32m----> 6\u001b[0;31m \u001b[0mmd\u001b[0m\u001b[0;34m.\u001b[0m\u001b[0munfold_datalog\u001b[0m\u001b[0;34m(\u001b[0m\u001b[0mquery\u001b[0m\u001b[0;34m)\u001b[0m\u001b[0;34m[\u001b[0m\u001b[0;36m0\u001b[0m\u001b[0;34m]\u001b[0m\u001b[0;34m\u001b[0m\u001b[0m\n\u001b[0m",
      "\u001b[0;32m/Users/joshwilson/Documents/DSE/2017FA-DSE203/dse203-demand-pred/final-demo/SCHEMA/Mediator.pyc\u001b[0m in \u001b[0;36munfold_datalog\u001b[0;34m(self, datalog)\u001b[0m\n\u001b[1;32m    325\u001b[0m                 \u001b[0;32mfor\u001b[0m \u001b[0mdatalog_string\u001b[0m \u001b[0;32min\u001b[0m \u001b[0mdp\u001b[0m\u001b[0;34m.\u001b[0m\u001b[0mprocessDatalog\u001b[0m\u001b[0;34m(\u001b[0m\u001b[0mdatalog\u001b[0m\u001b[0;34m)\u001b[0m\u001b[0;34m[\u001b[0m\u001b[0;34m'single_strings'\u001b[0m\u001b[0;34m]\u001b[0m\u001b[0;34m:\u001b[0m\u001b[0;34m\u001b[0m\u001b[0m\n\u001b[1;32m    326\u001b[0m                         \u001b[0mself\u001b[0m\u001b[0;34m.\u001b[0m\u001b[0mvalidateDatalogAtoms\u001b[0m\u001b[0;34m(\u001b[0m\u001b[0mdatalog_string\u001b[0m\u001b[0;34m)\u001b[0m\u001b[0;34m\u001b[0m\u001b[0m\n\u001b[0;32m--> 327\u001b[0;31m                         \u001b[0mself\u001b[0m\u001b[0;34m.\u001b[0m\u001b[0mvalidateDatalogHead\u001b[0m\u001b[0;34m(\u001b[0m\u001b[0mdatalog_string\u001b[0m\u001b[0;34m)\u001b[0m\u001b[0;34m\u001b[0m\u001b[0m\n\u001b[0m\u001b[1;32m    328\u001b[0m                         \u001b[0mself\u001b[0m\u001b[0;34m.\u001b[0m\u001b[0mvalidateDatalogConds\u001b[0m\u001b[0;34m(\u001b[0m\u001b[0mdatalog_string\u001b[0m\u001b[0;34m)\u001b[0m\u001b[0;34m\u001b[0m\u001b[0m\n\u001b[1;32m    329\u001b[0m \u001b[0;34m\u001b[0m\u001b[0m\n",
      "\u001b[0;32m/Users/joshwilson/Documents/DSE/2017FA-DSE203/dse203-demand-pred/final-demo/SCHEMA/Mediator.pyc\u001b[0m in \u001b[0;36mvalidateDatalogHead\u001b[0;34m(self, datalog)\u001b[0m\n\u001b[1;32m    140\u001b[0m                                 \u001b[0;32melse\u001b[0m\u001b[0;34m:\u001b[0m\u001b[0;34m\u001b[0m\u001b[0m\n\u001b[1;32m    141\u001b[0m                                         \u001b[0merr_string\u001b[0m \u001b[0;34m=\u001b[0m \u001b[0;34m'head attribute {} is not in datalog body'\u001b[0m\u001b[0;34m.\u001b[0m\u001b[0mformat\u001b[0m\u001b[0;34m(\u001b[0m\u001b[0mhead_attr\u001b[0m\u001b[0;34m)\u001b[0m\u001b[0;34m\u001b[0m\u001b[0m\n\u001b[0;32m--> 142\u001b[0;31m                                         \u001b[0;32mraise\u001b[0m \u001b[0mException\u001b[0m\u001b[0;34m(\u001b[0m\u001b[0merr_string\u001b[0m\u001b[0;34m)\u001b[0m\u001b[0;34m\u001b[0m\u001b[0m\n\u001b[0m\u001b[1;32m    143\u001b[0m \u001b[0;34m\u001b[0m\u001b[0m\n\u001b[1;32m    144\u001b[0m         \u001b[0;32mdef\u001b[0m \u001b[0mextract_aggreg_subgoals_as_intermediate_steps\u001b[0m\u001b[0;34m(\u001b[0m\u001b[0mself\u001b[0m\u001b[0;34m,\u001b[0m \u001b[0mdatalog\u001b[0m\u001b[0;34m)\u001b[0m\u001b[0;34m:\u001b[0m\u001b[0;34m\u001b[0m\u001b[0m\n",
      "\u001b[0;31mException\u001b[0m: head attribute EXTRA is not in datalog body"
     ]
    }
   ],
   "source": [
    "# validation fails - head attribute not in body\n",
    "query = '''Ans (nodeid, sales, vol, EXTRA) :- \n",
    "    sales_agg_mn (nodeid, mn, sales, vol, _, _, rank_vol),\n",
    "    mn=12, rank_vol<=3'''\n",
    "\n",
    "md.unfold_datalog(query)[0]"
   ]
  },
  {
   "cell_type": "code",
   "execution_count": 6,
   "metadata": {},
   "outputs": [
    {
     "data": {
      "text/plain": [
       "u'Ans(nodeid,sales,vol):-S1.sales_agg_mn(nodeid,mn,sales,vol,_,_,rank_vol),mn=12,rank_vol<=3'"
      ]
     },
     "execution_count": 6,
     "metadata": {},
     "output_type": "execute_result"
    }
   ],
   "source": [
    "# same query without extra head attribute unfolds\n",
    "query = '''Ans (nodeid, sales, vol) :- \n",
    "    sales_agg_mn (nodeid, mn, sales, vol, _, _, rank_vol),\n",
    "    mn=12, rank_vol<=3'''\n",
    "\n",
    "md.unfold_datalog(query)[0]"
   ]
  },
  {
   "cell_type": "markdown",
   "metadata": {},
   "source": [
    "### Condition atoms must appear in body"
   ]
  },
  {
   "cell_type": "code",
   "execution_count": 7,
   "metadata": {},
   "outputs": [
    {
     "ename": "Exception",
     "evalue": "condition attribute rank_vol is not in datalog body",
     "output_type": "error",
     "traceback": [
      "\u001b[0;31m---------------------------------------------------------------------------\u001b[0m",
      "\u001b[0;31mException\u001b[0m                                 Traceback (most recent call last)",
      "\u001b[0;32m<ipython-input-7-9ca6536bb7f8>\u001b[0m in \u001b[0;36m<module>\u001b[0;34m()\u001b[0m\n\u001b[1;32m      4\u001b[0m     mn=12, rank_vol<=3'''\n\u001b[1;32m      5\u001b[0m \u001b[0;34m\u001b[0m\u001b[0m\n\u001b[0;32m----> 6\u001b[0;31m \u001b[0mmd\u001b[0m\u001b[0;34m.\u001b[0m\u001b[0munfold_datalog\u001b[0m\u001b[0;34m(\u001b[0m\u001b[0mquery\u001b[0m\u001b[0;34m)\u001b[0m\u001b[0;34m[\u001b[0m\u001b[0;36m0\u001b[0m\u001b[0;34m]\u001b[0m\u001b[0;34m\u001b[0m\u001b[0m\n\u001b[0m",
      "\u001b[0;32m/Users/joshwilson/Documents/DSE/2017FA-DSE203/dse203-demand-pred/final-demo/SCHEMA/Mediator.pyc\u001b[0m in \u001b[0;36munfold_datalog\u001b[0;34m(self, datalog)\u001b[0m\n\u001b[1;32m    326\u001b[0m                         \u001b[0mself\u001b[0m\u001b[0;34m.\u001b[0m\u001b[0mvalidateDatalogAtoms\u001b[0m\u001b[0;34m(\u001b[0m\u001b[0mdatalog_string\u001b[0m\u001b[0;34m)\u001b[0m\u001b[0;34m\u001b[0m\u001b[0m\n\u001b[1;32m    327\u001b[0m                         \u001b[0mself\u001b[0m\u001b[0;34m.\u001b[0m\u001b[0mvalidateDatalogHead\u001b[0m\u001b[0;34m(\u001b[0m\u001b[0mdatalog_string\u001b[0m\u001b[0;34m)\u001b[0m\u001b[0;34m\u001b[0m\u001b[0m\n\u001b[0;32m--> 328\u001b[0;31m                         \u001b[0mself\u001b[0m\u001b[0;34m.\u001b[0m\u001b[0mvalidateDatalogConds\u001b[0m\u001b[0;34m(\u001b[0m\u001b[0mdatalog_string\u001b[0m\u001b[0;34m)\u001b[0m\u001b[0;34m\u001b[0m\u001b[0m\n\u001b[0m\u001b[1;32m    329\u001b[0m \u001b[0;34m\u001b[0m\u001b[0m\n\u001b[1;32m    330\u001b[0m                 \u001b[0;31m# extract aggregate subgoals to be unfolded in intermediate steps\u001b[0m\u001b[0;34m\u001b[0m\u001b[0;34m\u001b[0m\u001b[0m\n",
      "\u001b[0;32m/Users/joshwilson/Documents/DSE/2017FA-DSE203/dse203-demand-pred/final-demo/SCHEMA/Mediator.pyc\u001b[0m in \u001b[0;36mvalidateDatalogConds\u001b[0;34m(self, datalog)\u001b[0m\n\u001b[1;32m     90\u001b[0m                         \u001b[0;32melse\u001b[0m\u001b[0;34m:\u001b[0m\u001b[0;34m\u001b[0m\u001b[0m\n\u001b[1;32m     91\u001b[0m                                 \u001b[0merr_string\u001b[0m \u001b[0;34m=\u001b[0m \u001b[0;34m'condition attribute {} is not in datalog body'\u001b[0m\u001b[0;34m.\u001b[0m\u001b[0mformat\u001b[0m\u001b[0;34m(\u001b[0m\u001b[0mcond_attr\u001b[0m\u001b[0;34m)\u001b[0m\u001b[0;34m\u001b[0m\u001b[0m\n\u001b[0;32m---> 92\u001b[0;31m                                 \u001b[0;32mraise\u001b[0m \u001b[0mException\u001b[0m\u001b[0;34m(\u001b[0m\u001b[0merr_string\u001b[0m\u001b[0;34m)\u001b[0m\u001b[0;34m\u001b[0m\u001b[0m\n\u001b[0m\u001b[1;32m     93\u001b[0m \u001b[0;34m\u001b[0m\u001b[0m\n\u001b[1;32m     94\u001b[0m                 \u001b[0;31m# error if any condition attributes not in body attributes\u001b[0m\u001b[0;34m\u001b[0m\u001b[0;34m\u001b[0m\u001b[0m\n",
      "\u001b[0;31mException\u001b[0m: condition attribute rank_vol is not in datalog body"
     ]
    }
   ],
   "source": [
    "# validation fails - rank_vol condition not in body\n",
    "query = '''Ans (nodeid, sales, vol) :- \n",
    "    sales_agg_mn (nodeid, mn, sales, vol, _, _, _ ),     \n",
    "    mn=12, rank_vol<=3'''\n",
    "\n",
    "md.unfold_datalog(query)[0]"
   ]
  },
  {
   "cell_type": "code",
   "execution_count": 8,
   "metadata": {},
   "outputs": [
    {
     "data": {
      "text/plain": [
       "u'Ans(nodeid,sales,vol):-S1.sales_agg_mn(nodeid,mn,sales,vol,_,_,rank_vol),mn=12,rank_vol<=3'"
      ]
     },
     "execution_count": 8,
     "metadata": {},
     "output_type": "execute_result"
    }
   ],
   "source": [
    "# same query with rank_vol condition in body runs\n",
    "query = '''Ans (nodeid, sales, vol) :- \n",
    "    sales_agg_mn (nodeid, mn, sales, vol, _, _, rank_vol ),     \n",
    "    mn=12, rank_vol<=3'''\n",
    "\n",
    "md.unfold_datalog(query)[0]"
   ]
  },
  {
   "cell_type": "markdown",
   "metadata": {},
   "source": [
    "# Query Optimization Example"
   ]
  },
  {
   "cell_type": "code",
   "execution_count": 9,
   "metadata": {},
   "outputs": [
    {
     "data": {
      "text/plain": [
       "u'Ans(nodeId,yr,mn,sales,vol,pm_sales,pm_vol,p3m_sales,p3m_vol,p12m_sales,p12m_vol,pm_numreviews,pm_avgrating,p3m_numreviews,p3m_avgrating,p12m_numreviews,p12m_avgrating):-S1.mv_ml_features(nodeId,yr,mn,sales,vol,pm_sales,pm_vol,p3m_sales,p3m_vol,p12m_sales,p12m_vol,pm_numreviews,pm_avgrating,p3m_numreviews,p3m_avgrating,p12m_numreviews,p12m_avgrating),S2.mlview(nodeId,yr,mn,_,_,SENTIMENT_ATTRIBUTE)'"
      ]
     },
     "execution_count": 9,
     "metadata": {},
     "output_type": "execute_result"
    }
   ],
   "source": [
    "# query on mlfeatures unfolds to S1.mv_ml_features and S2.mlview\n",
    "query = '''Ans (nodeId, yr, mn, sales, vol, pm_sales, pm_vol, p3m_sales, p3m_vol, \n",
    "    p12m_sales, p12m_vol, pm_numreviews, pm_avgrating, p3m_numreviews, p3m_avgrating, \n",
    "    p12m_numreviews, p12m_avgrating) :- \n",
    "mlfeatures (nodeId, yr, mn, sales, vol, pm_sales, pm_vol, p3m_sales, p3m_vol, \n",
    "    p12m_sales, p12m_vol, pm_numreviews, pm_avgrating, p3m_numreviews, p3m_avgrating, \n",
    "    p12m_numreviews, p12m_avgrating, _, _, SENTIMENT_ATTRIBUTE)'''\n",
    "\n",
    "md.unfold_datalog(query)[0]"
   ]
  },
  {
   "cell_type": "code",
   "execution_count": 10,
   "metadata": {},
   "outputs": [
    {
     "data": {
      "text/plain": [
       "u'Ans(nodeId,yr,mn,sales,vol,pm_sales,pm_vol,p3m_sales,p3m_vol,p12m_sales,p12m_vol,pm_numreviews,pm_avgrating,p3m_numreviews,p3m_avgrating,p12m_numreviews,p12m_avgrating):-S1.mv_ml_features(nodeId,yr,mn,sales,vol,pm_sales,pm_vol,p3m_sales,p3m_vol,p12m_sales,p12m_vol,pm_numreviews,pm_avgrating,p3m_numreviews,p3m_avgrating,p12m_numreviews,p12m_avgrating)'"
      ]
     },
     "execution_count": 10,
     "metadata": {},
     "output_type": "execute_result"
    }
   ],
   "source": [
    "# query on mlfeatures without sentiment attributes unfolds to S1.mv_ml_features\n",
    "query = '''Ans (nodeId, yr, mn, sales, vol, pm_sales, pm_vol, p3m_sales, p3m_vol, \n",
    "    p12m_sales, p12m_vol, pm_numreviews, pm_avgrating, p3m_numreviews, p3m_avgrating, \n",
    "    p12m_numreviews, p12m_avgrating) :- \n",
    "mlfeatures (nodeId, yr, mn, sales, vol, pm_sales, pm_vol, p3m_sales, p3m_vol, \n",
    "    p12m_sales, p12m_vol, pm_numreviews, pm_avgrating, p3m_numreviews, p3m_avgrating, \n",
    "    p12m_numreviews, p12m_avgrating, _, _, _)'''\n",
    "\n",
    "md.unfold_datalog(query)[0]"
   ]
  },
  {
   "cell_type": "markdown",
   "metadata": {},
   "source": [
    "# Unit Testing"
   ]
  },
  {
   "cell_type": "markdown",
   "metadata": {},
   "source": [
    "### Import Unit testing code ###"
   ]
  },
  {
   "cell_type": "code",
   "execution_count": 11,
   "metadata": {
    "collapsed": true
   },
   "outputs": [],
   "source": [
    "# set the file name (required)\n",
    "__file__ = 'test_mediator.ipynb'\n",
    "\n",
    "# add ipython magics\n",
    "import ipytest.magics\n",
    "\n",
    "import pytest"
   ]
  },
  {
   "cell_type": "markdown",
   "metadata": {},
   "source": [
    "### Unit tests for unfolding queries ###"
   ]
  },
  {
   "cell_type": "code",
   "execution_count": 12,
   "metadata": {},
   "outputs": [
    {
     "name": "stdout",
     "output_type": "stream",
     "text": [
      "============================================= test session starts ==============================================\n",
      "platform darwin -- Python 2.7.13, pytest-3.3.0, py-1.5.2, pluggy-0.6.0\n",
      "rootdir: /Users/joshwilson/Documents/DSE/2017FA-DSE203/dse203-demand-pred/final-demo/SCHEMA, inifile:\n",
      "plugins: hypothesis-3.38.5\n",
      "collected 17 items\n",
      "\n",
      "test_mediator.py .................                                                                       [100%]\n",
      "\n",
      "========================================== 17 passed in 0.10 seconds ===========================================\n"
     ]
    }
   ],
   "source": [
    "%%run_pytest[clean] \n",
    "\n",
    "def test_qry_train_nodeids():\n",
    "    input_datalog = ('''Ans ( nodeid, yr, mn, sales, vol, pm_sales, pm_vol, p3m_sales, p3m_vol,\n",
    "    p12m_sales, p12m_vol, pm_numreviews, pm_avgrating, p3m_numreviews, p3m_avgrating,\n",
    "    p12m_numreviews, p12m_avgrating, pm_avgsntp, p3m_avgsntp, p12m_avgsntp ) :-\n",
    " mlfeatures ( nodeid, yr, mn, sales, vol, pm_sales, pm_vol, p3m_sales, p3m_vol,\n",
    "     p12m_sales, p12m_vol, pm_numreviews, pm_avgrating, p3m_numreviews, p3m_avgrating,\n",
    "     p12m_numreviews, p12m_avgrating, pm_avgsntp, p3m_avgsntp, p12m_avgsntp ) ,\n",
    "     nodeid in (15, 45, 121)\n",
    "''')\n",
    "\n",
    "    output_datalog = Ans_1 = ('''Ans(nodeid,yr,mn,sales,vol,pm_sales,pm_vol,p3m_sales,p3m_vol,p12m_sales,p12m_vol,pm_numreviews,pm_avgrating,p3m_numreviews,p3m_avgrating,p12m_numreviews,p12m_avgrating,pm_avgsntp,p3m_avgsntp,p12m_avgsntp):-S1.mv_ml_features(nodeid,yr,mn,sales,vol,pm_sales,pm_vol,p3m_sales,p3m_vol,p12m_sales,p12m_vol,pm_numreviews,pm_avgrating,p3m_numreviews,p3m_avgrating,p12m_numreviews,p12m_avgrating),S2.mlview(nodeid,yr,mn,pm_avgsntp,p3m_avgsntp,p12m_avgsntp),nodeid in (15,45,121)''')    \n",
    "    assert md.unfold_datalog(input_datalog)[0] == output_datalog\n",
    "\n",
    "\n",
    "\n",
    "def test_dec_sales():\n",
    "    input_datalog = ('''Ans ( nodeid, yr, mn, sales, vol, pm_sales, pm_vol, p3m_sales,\n",
    "    p3m_vol, p12m_sales, p12m_vol, pm_numreviews, pm_avgrating, p3m_numreviews,\n",
    "    p3m_avgrating, p12m_numreviews, p12m_avgrating, pm_avgsntp, p3m_avgsntp, p12m_avgsntp ) :-\n",
    " mlfeatures ( nodeid, yr, mn, sales, vol, pm_sales, pm_vol, p3m_sales, p3m_vol, p12m_sales,\n",
    "     p12m_vol, pm_numreviews, pm_avgrating, p3m_numreviews, p3m_avgrating, p12m_numreviews,\n",
    "     p12m_avgrating, pm_avgsntp, p3m_avgsntp, p12m_avgsntp ) ,\n",
    "     nodeid in (15, 45, 121),\n",
    "     mn=12,\n",
    "     yr=2015\n",
    "''')\n",
    "\n",
    "    output_datalog = ('''Ans(nodeid,yr,mn,sales,vol,pm_sales,pm_vol,p3m_sales,p3m_vol,p12m_sales,p12m_vol,pm_numreviews,pm_avgrating,p3m_numreviews,p3m_avgrating,p12m_numreviews,p12m_avgrating,pm_avgsntp,p3m_avgsntp,p12m_avgsntp):-S1.mv_ml_features(nodeid,yr,mn,sales,vol,pm_sales,pm_vol,p3m_sales,p3m_vol,p12m_sales,p12m_vol,pm_numreviews,pm_avgrating,p3m_numreviews,p3m_avgrating,p12m_numreviews,p12m_avgrating),S2.mlview(nodeid,yr,mn,pm_avgsntp,p3m_avgsntp,p12m_avgsntp),mn=12,yr=2015,nodeid in (15,45,121)''')\n",
    "    assert md.unfold_datalog(input_datalog)[0] == output_datalog\n",
    "\n",
    "\n",
    "def test_top_3_sales_xmas():\n",
    "    input_datalog = ('''Ans ( nodeid, sales) :- sales_agg_mn(nodeid, mn, sales, _, _, rank_sales, _) ,\n",
    "    mn=12,\n",
    "    rank_sales<=3\n",
    "''')\n",
    "\n",
    "    output_datalog = ('''Ans(nodeid,sales):-S1.sales_agg_mn(nodeid,mn,sales,_,_,rank_sales,_),mn=12,rank_sales<=3''')\n",
    "    assert md.unfold_datalog(input_datalog)[0] == output_datalog\n",
    "\n",
    "\n",
    "def test_top_3_vol_last_yr():\n",
    "    input_datalog = ('''Ans ( nodeid, sales,vol) :- sales_agg_mn(nodeid, mn, sales, vol, _, _, rank_vol) ,\n",
    "    mn=12,\n",
    "    rank_vol<=3\n",
    "''')\n",
    "\n",
    "    output_datalog = ('''Ans(nodeid,sales,vol):-S1.sales_agg_mn(nodeid,mn,sales,vol,_,_,rank_vol),mn=12,rank_vol<=3''')\n",
    "    assert md.unfold_datalog(input_datalog)[0] == output_datalog\n",
    "\n",
    "\n",
    "def test_top_3_sales_last_yr():\n",
    "    input_datalog = ('''Ans ( nodeid, sales) :- sales_agg_yr(nodeid, yr, sales, _ , _ , rank_sales, _ ) ,\n",
    "    yr = 2016,\n",
    "    rank_sales<=3\n",
    "''')\n",
    "\n",
    "    output_datalog = ('''Ans(nodeid,sales):-S1.sales_agg_yr(nodeid,yr,sales,_,_,rank_sales,_),yr=2016,rank_sales<=3''')\n",
    "    assert md.unfold_datalog(input_datalog)[0] == output_datalog\n",
    "\n",
    "\n",
    "def test_too_many_atoms():\n",
    "    input_datalog = ('''Ans ( nodeid, sales,vol) :- sales_agg_mn(nodeid, mn, sales, vol, _, _, rank_vol,_) ,\n",
    "            mn=12,\n",
    "            rank_vol<=3\n",
    "        ''')\n",
    "\n",
    "    output_datalog = (\n",
    "        '''Ans(nodeid,sales,vol):-S1.sales_agg_mn(nodeid,mn,sales,vol,_,_,rank_vol),mn=12,rank_vol<=3''')\n",
    "\n",
    "    with pytest.raises(Exception) as e:\n",
    "        assert md.unfold_datalog(input_datalog)[0] == output_datalog\n",
    "\n",
    "\n",
    "def test_too_few_atoms():\n",
    "    input_datalog = ('''Ans ( nodeid, sales,vol) :- sales_agg_mn(nodeid, mn, sales, vol, rank_vol) ,\n",
    "            mn=12,\n",
    "            rank_vol<=3\n",
    "        ''')\n",
    "\n",
    "    output_datalog = (\n",
    "            '''Ans(nodeid,sales,vol):-S1.sales_agg_mn(nodeid,mn,sales,vol,_,_,rank_vol),mn=12,rank_vol<=3''')\n",
    "\n",
    "    with pytest.raises(Exception) as e:\n",
    "        assert md.unfold_datalog(input_datalog)[0] == output_datalog\n",
    "\n",
    "\n",
    "def test_head_att_not_in_body():\n",
    "    input_datalog = ('''Ans ( nodeid, sales, vol, EXTRA_FIELD) :- sales_agg_mn(nodeid, mn, sales, vol, _, _, rank_vol) ,\n",
    "            mn=12,\n",
    "            rank_vol<=3\n",
    "        ''')\n",
    "\n",
    "    output_datalog = (\n",
    "            '''Ans(nodeid,sales,vol):-S1.sales_agg_mn(nodeid,mn,sales,vol,_,_,rank_vol),mn=12,rank_vol<=3''')\n",
    "\n",
    "    with pytest.raises(Exception) as e:\n",
    "        assert md.unfold_datalog(input_datalog)[0] == output_datalog        \n",
    "\n",
    "        \n",
    "def test_cond_att_not_in_body():\n",
    "    input_datalog = ('''Ans ( nodeid, sales,vol,_,_,_) :- sales_agg_mn(nodeid, mn, sales, vol,_,_,_) , \n",
    "    mn=12, rank_vol<=3''')\n",
    "\n",
    "    output_datalog = ('''Ans(nodeid,sales,vol):-S1.sales_agg_mn(nodeid,mn,sales,vol,_,_,rank_vol),mn=12,rank_vol<=3''')    \n",
    "    \n",
    "    with pytest.raises(Exception) as e:\n",
    "        md.unfold_datalog(input_datalog)[0] == output_datalog\n",
    "    assert ('condition attribute' in str(e.value) and 'not in datalog body' in str(e.value))\n",
    "\n",
    "        \n",
    "def test_optimize_query():\n",
    "    input_datalog = ('''Ans ( nodeId, yr, mn, sales, vol, pm_sales, pm_vol, p3m_sales, p3m_vol, p12m_sales, p12m_vol, pm_numreviews, pm_avgrating, p3m_numreviews, p3m_avgrating, p12m_numreviews, p12m_avgrating) :-\n",
    " mlfeatures ( nodeId, yr, mn, sales, vol, pm_sales, pm_vol, p3m_sales, p3m_vol, p12m_sales, p12m_vol, pm_numreviews, pm_avgrating, p3m_numreviews, p3m_avgrating, p12m_numreviews, p12m_avgrating, _, _, _) , nodeId in (15, 45, 121)''')\n",
    "        \n",
    "    output_datalog = ('''Ans(nodeId,yr,mn,sales,vol,pm_sales,pm_vol,p3m_sales,p3m_vol,p12m_sales,p12m_vol,pm_numreviews,pm_avgrating,p3m_numreviews,p3m_avgrating,p12m_numreviews,p12m_avgrating):-S1.mv_ml_features(nodeId,yr,mn,sales,vol,pm_sales,pm_vol,p3m_sales,p3m_vol,p12m_sales,p12m_vol,pm_numreviews,pm_avgrating,p3m_numreviews,p3m_avgrating,p12m_numreviews,p12m_avgrating),nodeId in (15,45,121)''')\n",
    "    assert md.unfold_datalog(input_datalog)[0] == output_datalog\n",
    "\n",
    "\n",
    "def test_top_3_sales_xmas_multi_step():\n",
    "    input_datalog = ('''Step1 (nodeId, sales):-order_by(sales_agg_mn (nodeId, mn, sales, _, _, _, _), [sales], [d]), mn=12.\n",
    "Ans(nodeId, sales):-top(3, Step1(nodeId, sales))''')\n",
    "        \n",
    "    output_datalog = ('''sales_agg_mn_orderby_1(nodeId,mn,sales,_,_,_,_):-S1.sales_agg_mn(nodeId,mn,sales,_,_,_,_).Step1(nodeId,sales):-orderby(sales_agg_mn_orderby_1(nodeId,mn,sales,_,_,_,_),[sales],[d]),mn=12.Ans(nodeId,sales):-top(3,Step1(nodeId,sales))''')\n",
    "    assert md.unfold_datalog(input_datalog)[0] == output_datalog\n",
    "\n",
    "\n",
    "def test_top_3_sales_last_yr_multi_step():\n",
    "    input_datalog = ('''Step1 (nodeId, sales) :- order_by(sales_agg_yr (nodeId, yr, sales,_,_,_,_), [sales], [d]), yr=2016.\n",
    "Ans (nodeId, sales):-top(3, Step1(nodeId, sales))''')\n",
    "        \n",
    "    output_datalog = ('''sales_agg_yr_orderby_1(nodeId,yr,sales,_,_,_,_):-S1.sales_agg_yr(nodeId,yr,sales,_,_,_,_).Step1(nodeId,sales):-orderby(sales_agg_yr_orderby_1(nodeId,yr,sales,_,_,_,_),[sales],[d]),yr=2016.Ans(nodeId,sales):-top(3,Step1(nodeId,sales))''')\n",
    "    assert md.unfold_datalog(input_datalog)[0] == output_datalog\n",
    "\n",
    "\n",
    "def test_ml_features_orderby_sales():\n",
    "    input_datalog = ('''Ans ( nodeId, yr, mn, sales, vol, pm_sales, pm_vol, p3m_sales, p3m_vol, p12m_sales, \n",
    "     p12m_vol, pm_numreviews, pm_avgrating, p3m_numreviews, p3m_avgrating, p12m_numreviews, \n",
    "     p12m_avgrating, pm_avgsntp, p3m_avgsntp, p12m_avgsntp ) :- \n",
    "order_by(mlfeatures ( nodeId, yr, mn, sales, vol, pm_sales, pm_vol, p3m_sales, p3m_vol, p12m_sales, \n",
    "     p12m_vol, pm_numreviews, pm_avgrating, p3m_numreviews, p3m_avgrating, p12m_numreviews, \n",
    "     p12m_avgrating, pm_avgsntp, p3m_avgsntp, p12m_avgsntp), [sales], [d]), yr=2016.''')\n",
    "        \n",
    "    output_datalog = ('''mlfeatures_orderby_1(nodeId,yr,mn,sales,vol,pm_sales,pm_vol,p3m_sales,p3m_vol,p12m_sales,p12m_vol,pm_numreviews,pm_avgrating,p3m_numreviews,p3m_avgrating,p12m_numreviews,p12m_avgrating,pm_avgsntp,p3m_avgsntp,p12m_avgsntp):-S1.mv_ml_features(nodeId,yr,mn,sales,vol,pm_sales,pm_vol,p3m_sales,p3m_vol,p12m_sales,p12m_vol,pm_numreviews,pm_avgrating,p3m_numreviews,p3m_avgrating,p12m_numreviews,p12m_avgrating),S2.mlview(nodeId,yr,mn,pm_avgsntp,p3m_avgsntp,p12m_avgsntp).Ans(nodeId,yr,mn,sales,vol,pm_sales,pm_vol,p3m_sales,p3m_vol,p12m_sales,p12m_vol,pm_numreviews,pm_avgrating,p3m_numreviews,p3m_avgrating,p12m_numreviews,p12m_avgrating,pm_avgsntp,p3m_avgsntp,p12m_avgsntp):-orderby(mlfeatures_orderby_1(nodeId,yr,mn,sales,vol,pm_sales,pm_vol,p3m_sales,p3m_vol,p12m_sales,p12m_vol,pm_numreviews,pm_avgrating,p3m_numreviews,p3m_avgrating,p12m_numreviews,p12m_avgrating,pm_avgsntp,p3m_avgsntp,p12m_avgsntp),[sales],[d]),yr=2016''')\n",
    "    assert md.unfold_datalog(input_datalog)[0] == output_datalog\n",
    "\n",
    "\n",
    "def test_ml_features_top3_sales_2016_multi_step():\n",
    "    input_datalog = ('''Step1 ( nodeId, yr, mn, sales, vol, pm_sales, pm_vol, p3m_sales, p3m_vol, p12m_sales, \n",
    "     p12m_vol, pm_numreviews, pm_avgrating, p3m_numreviews, p3m_avgrating, p12m_numreviews, \n",
    "     p12m_avgrating, pm_avgsntp, p3m_avgsntp, p12m_avgsntp ) :- \n",
    "order_by(mlfeatures ( nodeId, yr, mn, sales, vol, pm_sales, pm_vol, p3m_sales, p3m_vol, p12m_sales, \n",
    "     p12m_vol, pm_numreviews, pm_avgrating, p3m_numreviews, p3m_avgrating, p12m_numreviews, \n",
    "     p12m_avgrating, pm_avgsntp, p3m_avgsntp, p12m_avgsntp), [sales], [d]), yr=2016.\n",
    "Ans ( nodeId, yr, mn, sales, vol, pm_sales, pm_vol, p3m_sales, p3m_vol, p12m_sales,\n",
    "     p12m_vol, pm_numreviews, pm_avgrating, p3m_numreviews, p3m_avgrating, p12m_numreviews, \n",
    "     p12m_avgrating, pm_avgsntp, p3m_avgsntp, p12m_avgsntp) :- \n",
    "     top(3, Step1(nodeId, yr, mn, sales, vol, pm_sales, pm_vol, p3m_sales, p3m_vol, p12m_sales, \n",
    "     p12m_vol, pm_numreviews, pm_avgrating, p3m_numreviews, p3m_avgrating, p12m_numreviews, \n",
    "     p12m_avgrating, pm_avgsntp, p3m_avgsntp, p12m_avgsntp))''')\n",
    "        \n",
    "    output_datalog = ('''mlfeatures_orderby_1(nodeId,yr,mn,sales,vol,pm_sales,pm_vol,p3m_sales,p3m_vol,p12m_sales,p12m_vol,pm_numreviews,pm_avgrating,p3m_numreviews,p3m_avgrating,p12m_numreviews,p12m_avgrating,pm_avgsntp,p3m_avgsntp,p12m_avgsntp):-S1.mv_ml_features(nodeId,yr,mn,sales,vol,pm_sales,pm_vol,p3m_sales,p3m_vol,p12m_sales,p12m_vol,pm_numreviews,pm_avgrating,p3m_numreviews,p3m_avgrating,p12m_numreviews,p12m_avgrating),S2.mlview(nodeId,yr,mn,pm_avgsntp,p3m_avgsntp,p12m_avgsntp).Step1(nodeId,yr,mn,sales,vol,pm_sales,pm_vol,p3m_sales,p3m_vol,p12m_sales,p12m_vol,pm_numreviews,pm_avgrating,p3m_numreviews,p3m_avgrating,p12m_numreviews,p12m_avgrating,pm_avgsntp,p3m_avgsntp,p12m_avgsntp):-orderby(mlfeatures_orderby_1(nodeId,yr,mn,sales,vol,pm_sales,pm_vol,p3m_sales,p3m_vol,p12m_sales,p12m_vol,pm_numreviews,pm_avgrating,p3m_numreviews,p3m_avgrating,p12m_numreviews,p12m_avgrating,pm_avgsntp,p3m_avgsntp,p12m_avgsntp),[sales],[d]),yr=2016.Ans(nodeId,yr,mn,sales,vol,pm_sales,pm_vol,p3m_sales,p3m_vol,p12m_sales,p12m_vol,pm_numreviews,pm_avgrating,p3m_numreviews,p3m_avgrating,p12m_numreviews,p12m_avgrating,pm_avgsntp,p3m_avgsntp,p12m_avgsntp):-top(3,Step1(nodeId,yr,mn,sales,vol,pm_sales,pm_vol,p3m_sales,p3m_vol,p12m_sales,p12m_vol,pm_numreviews,pm_avgrating,p3m_numreviews,p3m_avgrating,p12m_numreviews,p12m_avgrating,pm_avgsntp,p3m_avgsntp,p12m_avgsntp))''')\n",
    "    assert md.unfold_datalog(input_datalog)[0] == output_datalog\n",
    "\n",
    "\n",
    "def test_group_by():\n",
    "    input_datalog = ('''Ans ( nodeId, yr, mn, total_sales) :-\n",
    " group_by(sales_agg_yrmn ( nodeId, yr, mn, sales, _, _, _, _) , [nodeId, yr, mn], total_sales=sum(sales))\n",
    " ''')\n",
    "\n",
    "    output_datalog = ('''sales_agg_yrmn_groupby_1(nodeId,yr,mn,sales,_,_,_,_):-S1.sales_agg_yrmn(nodeId,yr,mn,sales,_,_).Ans(nodeId,yr,mn,total_sales):-groupby(sales_agg_yrmn_groupby_1(nodeId,yr,mn,sales,_,_,_,_),[nodeId,yr,mn],total_sales=sum(sales))''')\n",
    "    assert md.unfold_datalog(input_datalog)[0] == output_datalog\n",
    "\n",
    "\n",
    "def test_order_by():\n",
    "    input_datalog = ('''Ans ( nodeId, yr, mn, sales) :-\n",
    " order_by(sales_agg_yrmn ( nodeId, yr, mn, sales, _, _, _, _) , [sales], [d])\n",
    " ''')\n",
    "\n",
    "    output_datalog = ('''sales_agg_yrmn_orderby_1(nodeId,yr,mn,sales,_,_,_,_):-S1.sales_agg_yrmn(nodeId,yr,mn,sales,_,_).Ans(nodeId,yr,mn,sales):-orderby(sales_agg_yrmn_orderby_1(nodeId,yr,mn,sales,_,_,_,_),[sales],[d])''')\n",
    "    assert md.unfold_datalog(input_datalog)[0] == output_datalog\n",
    "\n",
    "\n",
    "def test_top_n():\n",
    "    input_datalog = ('''Ans ( nodeId, yr, mn, sales) :-\n",
    " top(3, sales_agg_yrmn ( nodeId, yr, mn, sales, _, _, _, _))\n",
    " ''')\n",
    "\n",
    "    output_datalog = ('''sales_agg_yrmn_topn_1(nodeId,yr,mn,sales,_,_,_,_):-S1.sales_agg_yrmn(nodeId,yr,mn,sales,_,_).Ans(nodeId,yr,mn,sales):-top(3,sales_agg_yrmn_topn_1(nodeId,yr,mn,sales,_,_,_,_))''')\n",
    "    assert md.unfold_datalog(input_datalog)[0] == output_datalog"
   ]
  },
  {
   "cell_type": "markdown",
   "metadata": {},
   "source": [
    "### Confirm correct input datalog fails"
   ]
  },
  {
   "cell_type": "code",
   "execution_count": 13,
   "metadata": {},
   "outputs": [
    {
     "name": "stdout",
     "output_type": "stream",
     "text": [
      "..............FFF                                                                                        [100%]\n",
      "=================================================== FAILURES ===================================================\n",
      "_____________________________________________ test_too_many_atoms ______________________________________________\n",
      "\n",
      "    def test_too_many_atoms():\n",
      "        input_datalog = ('''Ans ( nodeid, sales, vol) :- sales_agg_mn(nodeid, mn, sales, vol, _, _, rank_vol) ,\n",
      "                mn=12,\n",
      "                rank_vol<=3\n",
      "            ''')\n",
      "    \n",
      "        output_datalog = (\n",
      "            '''Ans(nodeid,sales,vol):-S1.sales_agg_mn(nodeid,mn,sales,vol,_,_,rank_vol),mn=12,rank_vol<=3''')\n",
      "    \n",
      "        with pytest.raises(Exception) as e:\n",
      ">           assert md.unfold_datalog(input_datalog)[0] == output_datalog\n",
      "E           Failed: DID NOT RAISE <type 'exceptions.Exception'>\n",
      "\n",
      "<ipython-input-13-cc6d9e16307c>:12: Failed\n",
      "__________________________________________ test_head_att_not_in_body ___________________________________________\n",
      "\n",
      "    def test_head_att_not_in_body():\n",
      "        input_datalog = ('''Ans ( nodeid, sales, vol) :- sales_agg_mn(nodeid, mn, sales, vol, _, _, rank_vol) ,\n",
      "                mn=12,\n",
      "                rank_vol<=3\n",
      "            ''')\n",
      "    \n",
      "        output_datalog = (\n",
      "                '''Ans(nodeid,sales,vol):-S1.sales_agg_mn(nodeid,mn,sales,vol,_,_,rank_vol),mn=12,rank_vol<=3''')\n",
      "    \n",
      "        with pytest.raises(Exception) as e:\n",
      ">           md.unfold_datalog(input_datalog)[0] == output_datalog\n",
      "E           Failed: DID NOT RAISE <type 'exceptions.Exception'>\n",
      "\n",
      "<ipython-input-13-cc6d9e16307c>:25: Failed\n",
      "__________________________________________ test_cond_att_not_in_body ___________________________________________\n",
      "\n",
      "    def test_cond_att_not_in_body():\n",
      "        input_datalog = ('''Ans ( nodeid, sales,vol,_,_,_) :- sales_agg_mn(nodeid, mn, sales, vol, _, _, rank_vol) ,\n",
      "        mn=12, rank_vol<=3''')\n",
      "    \n",
      "        output_datalog = ('''Ans(nodeid,sales,vol):-S1.sales_agg_mn(nodeid,mn,sales,vol,_,_,rank_vol),mn=12,rank_vol<=3''')\n",
      "    \n",
      "        with pytest.raises(Exception) as e:\n",
      ">           md.unfold_datalog(input_datalog)[0] == output_datalog\n",
      "E           Failed: DID NOT RAISE <type 'exceptions.Exception'>\n",
      "\n",
      "<ipython-input-13-cc6d9e16307c>:36: Failed\n"
     ]
    }
   ],
   "source": [
    "%%run_pytest[clean] -qq\n",
    "\n",
    "def test_too_many_atoms():\n",
    "    input_datalog = ('''Ans ( nodeid, sales, vol) :- sales_agg_mn(nodeid, mn, sales, vol, _, _, rank_vol) ,\n",
    "            mn=12,\n",
    "            rank_vol<=3\n",
    "        ''')\n",
    "\n",
    "    output_datalog = (\n",
    "        '''Ans(nodeid,sales,vol):-S1.sales_agg_mn(nodeid,mn,sales,vol,_,_,rank_vol),mn=12,rank_vol<=3''')\n",
    "\n",
    "    with pytest.raises(Exception) as e:\n",
    "        assert md.unfold_datalog(input_datalog)[0] == output_datalog\n",
    "\n",
    "        \n",
    "def test_head_att_not_in_body():\n",
    "    input_datalog = ('''Ans ( nodeid, sales, vol) :- sales_agg_mn(nodeid, mn, sales, vol, _, _, rank_vol) ,\n",
    "            mn=12,\n",
    "            rank_vol<=3\n",
    "        ''')\n",
    "\n",
    "    output_datalog = (\n",
    "            '''Ans(nodeid,sales,vol):-S1.sales_agg_mn(nodeid,mn,sales,vol,_,_,rank_vol),mn=12,rank_vol<=3''')\n",
    "\n",
    "    with pytest.raises(Exception) as e:\n",
    "        md.unfold_datalog(input_datalog)[0] == output_datalog\n",
    "    assert ('head attribute' in str(e.value) and 'not in datalog body' in str(e.value))\n",
    "\n",
    "    \n",
    "def test_cond_att_not_in_body():\n",
    "    input_datalog = ('''Ans ( nodeid, sales,vol,_,_,_) :- sales_agg_mn(nodeid, mn, sales, vol, _, _, rank_vol) , \n",
    "    mn=12, rank_vol<=3''')\n",
    "\n",
    "    output_datalog = ('''Ans(nodeid,sales,vol):-S1.sales_agg_mn(nodeid,mn,sales,vol,_,_,rank_vol),mn=12,rank_vol<=3''')    \n",
    "    \n",
    "    with pytest.raises(Exception) as e:\n",
    "        md.unfold_datalog(input_datalog)[0] == output_datalog\n",
    "    assert ('condition attribute' in str(e.value) and 'not in datalog body' in str(e.value))\n"
   ]
  },
  {
   "cell_type": "code",
   "execution_count": null,
   "metadata": {
    "collapsed": true
   },
   "outputs": [],
   "source": []
  }
 ],
 "metadata": {
  "kernelspec": {
   "display_name": "Python 2",
   "language": "python",
   "name": "python2"
  },
  "language_info": {
   "codemirror_mode": {
    "name": "ipython",
    "version": 2
   },
   "file_extension": ".py",
   "mimetype": "text/x-python",
   "name": "python",
   "nbconvert_exporter": "python",
   "pygments_lexer": "ipython2",
   "version": "2.7.13"
  }
 },
 "nbformat": 4,
 "nbformat_minor": 1
}
