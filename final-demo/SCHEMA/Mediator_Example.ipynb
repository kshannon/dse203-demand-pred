{
 "cells": [
  {
   "cell_type": "code",
   "execution_count": 1,
   "metadata": {
    "collapsed": true
   },
   "outputs": [],
   "source": [
    "from Mediator import Mediator"
   ]
  },
  {
   "cell_type": "code",
   "execution_count": 2,
   "metadata": {
    "collapsed": true
   },
   "outputs": [],
   "source": [
    "md = Mediator()"
   ]
  },
  {
   "cell_type": "code",
   "execution_count": 3,
   "metadata": {
    "collapsed": true
   },
   "outputs": [],
   "source": [
    "# ML query -> Get training data for a group of nodeIds\n",
    "query = ('''Ans ( nodeId, yr, mn, sales, vol, pm_sales, pm_vol, p3m_sales, p3m_vol, \n",
    "    p12m_sales, p12m_vol, pm_numreviews, pm_avgrating, p3m_numreviews, p3m_avgrating, \n",
    "    p12m_numreviews, p12m_avgrating, pm_avgsntp, p3m_avgsntp, p12m_avgsntp ) :-\n",
    " mlfeatures ( nodeId, yr, mn, sales, vol, pm_sales, pm_vol, p3m_sales, p3m_vol, \n",
    "     p12m_sales, p12m_vol, pm_numreviews, pm_avgrating, p3m_numreviews, p3m_avgrating, \n",
    "     p12m_numreviews, p12m_avgrating, pm_avgsntp, p3m_avgsntp, p12m_avgsntp ) , \n",
    "     nodeId in (15, 45, 121)\n",
    "''')"
   ]
  },
  {
   "cell_type": "code",
   "execution_count": 8,
   "metadata": {},
   "outputs": [
    {
     "data": {
      "text/plain": [
       "u'Ans(nodeId,yr,mn,sales,vol,pm_sales,pm_vol,p3m_sales,p3m_vol,p12m_sales,p12m_vol,pm_numreviews,pm_avgrating,p3m_numreviews,p3m_avgrating,p12m_numreviews,p12m_avgrating,pm_avgsntp,p3m_avgsntp,p12m_avgsntp):-S1.mv_ml_features(nodeId,yr,mn,sales,vol,pm_sales,pm_vol,p3m_sales,p3m_vol,p12m_sales,p12m_vol,pm_numreviews,pm_avgrating,p3m_numreviews,p3m_avgrating,p12m_numreviews,p12m_avgrating),S2.mlview(nodeId,yr,mn,pm_avgsntp,p3m_avgsntp,p12m_avgsntp),nodeId in (15,45,121)'"
      ]
     },
     "execution_count": 8,
     "metadata": {},
     "output_type": "execute_result"
    }
   ],
   "source": [
    "md.unfold_datalog(query)[0] # returns unfolded datalog string"
   ]
  },
  {
   "cell_type": "code",
   "execution_count": 11,
   "metadata": {},
   "outputs": [
    {
     "data": {
      "text/plain": [
       "[u'mlfeatures',\n",
       " u'classification',\n",
       " u'sales_agg_mn',\n",
       " u'sales_agg_yrmn',\n",
       " u'reviews_agg_yrmn',\n",
       " u'sales_agg_yr']"
      ]
     },
     "execution_count": 11,
     "metadata": {},
     "output_type": "execute_result"
    }
   ],
   "source": [
    "md.mapping_dict.keys()"
   ]
  },
  {
   "cell_type": "code",
   "execution_count": 12,
   "metadata": {},
   "outputs": [
    {
     "data": {
      "text/plain": [
       "[u'datalog', u'mapping']"
      ]
     },
     "execution_count": 12,
     "metadata": {},
     "output_type": "execute_result"
    }
   ],
   "source": [
    "md.mapping_dict['mlfeatures'].keys()"
   ]
  },
  {
   "cell_type": "code",
   "execution_count": 13,
   "metadata": {},
   "outputs": [
    {
     "data": {
      "text/plain": [
       "{u'datalog': [u'nodeid',\n",
       "  u'yr',\n",
       "  u'mn',\n",
       "  u'sales',\n",
       "  u'vol',\n",
       "  u'pm_sales',\n",
       "  u'pm_vol',\n",
       "  u'p3m_sales',\n",
       "  u'p3m_vol',\n",
       "  u'p12m_sales',\n",
       "  u'p12m_vol',\n",
       "  u'pm_numreviews',\n",
       "  u'pm_avgrating',\n",
       "  u'p3m_numreviews',\n",
       "  u'p3m_avgrating',\n",
       "  u'p12m_numreviews',\n",
       "  u'p12m_avgrating',\n",
       "  u'pm_avgsntp',\n",
       "  u'p3m_avgsntp',\n",
       "  u'p12m_avgsntp'],\n",
       " u'mapping': [{u'key': u'nodeid',\n",
       "   u'source': u'S1',\n",
       "   u'source.datalog': [u'nodeid',\n",
       "    u'yr',\n",
       "    u'mn',\n",
       "    u'sales',\n",
       "    u'vol',\n",
       "    u'pm_sales',\n",
       "    u'pm_vol',\n",
       "    u'p3m_sales',\n",
       "    u'p3m_vol',\n",
       "    u'p12m_sales',\n",
       "    u'p12m_vol',\n",
       "    u'pm_numreviews',\n",
       "    u'pm_avgrating',\n",
       "    u'p3m_numreviews',\n",
       "    u'p3m_avgrating',\n",
       "    u'p12m_numreviews',\n",
       "    u'p12m_avgrating'],\n",
       "   u'table': u'mv_ml_features'},\n",
       "  {u'key': u'nodeid',\n",
       "   u'source': u'S2',\n",
       "   u'source.datalog': [u'nodeid',\n",
       "    u'yr',\n",
       "    u'mn',\n",
       "    u'pm_avgsntp',\n",
       "    u'p3m_avgsntp',\n",
       "    u'p12m_avgsntp'],\n",
       "   u'table': u'mlview'}]}"
      ]
     },
     "execution_count": 13,
     "metadata": {},
     "output_type": "execute_result"
    }
   ],
   "source": [
    "md.mapping_dict['mlfeatures']"
   ]
  },
  {
   "cell_type": "code",
   "execution_count": null,
   "metadata": {
    "collapsed": true
   },
   "outputs": [],
   "source": []
  }
 ],
 "metadata": {
  "kernelspec": {
   "display_name": "Python 2",
   "language": "python",
   "name": "python2"
  },
  "language_info": {
   "codemirror_mode": {
    "name": "ipython",
    "version": 2
   },
   "file_extension": ".py",
   "mimetype": "text/x-python",
   "name": "python",
   "nbconvert_exporter": "python",
   "pygments_lexer": "ipython2",
   "version": "2.7.13"
  }
 },
 "nbformat": 4,
 "nbformat_minor": 2
}
