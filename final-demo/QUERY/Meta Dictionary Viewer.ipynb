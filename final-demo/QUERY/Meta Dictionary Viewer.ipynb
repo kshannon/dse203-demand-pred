{
 "cells": [
  {
   "cell_type": "code",
   "execution_count": 1,
   "metadata": {},
   "outputs": [],
   "source": [
    "import json\n",
    "\n",
    "with open('sourcedictionary.json', 'r') as f:\n",
    "    sourcedict = json.load(f)\n",
    "with open('metadictionary.json', 'r') as f:\n",
    "    meta = json.load(f)\n",
    "    \n",
    "\n",
    "import uuid\n",
    "from IPython.display import display_javascript, display_html, display\n",
    "import json\n",
    "\n",
    "class RenderJSON(object):\n",
    "    def __init__(self, json_data):\n",
    "        if isinstance(json_data, dict):\n",
    "            self.json_str = json.dumps(json_data)\n",
    "        else:\n",
    "            self.json_str = json_data\n",
    "        self.uuid = str(uuid.uuid4())\n",
    "\n",
    "    def _ipython_display_(self):\n",
    "        display_html('<div id=\"{}\" style=\"height: 600px; width:100%;\"></div>'.format(self.uuid), raw=True)\n",
    "        display_javascript(\"\"\"\n",
    "        require([\"https://rawgit.com/caldwell/renderjson/master/renderjson.js\"], function() {\n",
    "        document.getElementById('%s').appendChild(renderjson(%s))\n",
    "        });\n",
    "        \"\"\" % (self.uuid, self.json_str), raw=True)"
   ]
  },
  {
   "cell_type": "code",
   "execution_count": null,
   "metadata": {},
   "outputs": [],
   "source": []
  },
  {
   "cell_type": "code",
   "execution_count": 2,
   "metadata": {},
   "outputs": [],
   "source": [
    "meta['sales_agg_mn']['mapping'][0]['source'] = sourcedict['S1.sales_agg_mn']\n",
    "meta['sales_agg_yr']['mapping'][0]['source'] = sourcedict['S1.sales_agg_yr']\n",
    "meta['sales_agg_yrmn']['mapping'][0]['source'] = sourcedict['S1.sales_agg_yrmn']\n",
    "meta['reviews_agg_yrmn']['mapping'][0]['source'] = sourcedict['S1.reviews_agg_yrmn']\n",
    "meta['mlfeatures']['mapping'][0]['source'] = sourcedict['S1.mv_ml_features']\n",
    "meta['mlfeatures']['mapping'][1]['source'] = sourcedict['S2.mlview']"
   ]
  },
  {
   "cell_type": "code",
   "execution_count": 3,
   "metadata": {},
   "outputs": [],
   "source": [
    "meta['classification']['mapping'][0]['source'] = sourcedict[\"S2.ClassificationInfo\"]"
   ]
  },
  {
   "cell_type": "code",
   "execution_count": 4,
   "metadata": {},
   "outputs": [
    {
     "data": {
      "text/html": [
       "<div id=\"17f5988a-1c4f-42c7-bda5-938ccb3d2486\" style=\"height: 600px; width:100%;\"></div>"
      ]
     },
     "metadata": {},
     "output_type": "display_data"
    },
    {
     "data": {
      "application/javascript": [
       "\n",
       "        require([\"https://rawgit.com/caldwell/renderjson/master/renderjson.js\"], function() {\n",
       "        document.getElementById('17f5988a-1c4f-42c7-bda5-938ccb3d2486').appendChild(renderjson({\"mlfeatures\": {\"datalog\": [\"nodeid\", \"yr\", \"mn\", \"sales\", \"vol\", \"pm_sales\", \"pm_vol\", \"p3m_sales\", \"p3m_vol\", \"p12m_sales\", \"p12m_vol\", \"pm_numreviews\", \"pm_avgrating\", \"p3m_numreviews\", \"p3m_avgrating\", \"p12m_numreviews\", \"p12m_avgrating\", \"pm_avgsntp\", \"p3m_avgsntp\", \"p12m_avgsntp\"], \"mapping\": [{\"table\": \"mv_ml_features\", \"source\": {\"wrapper\": \"postgresWrapper\", \"columns\": [\"nodeid\", \"yr\", \"mon\", \"total_sales_volume\", \"total_sales_price\", \"pm_total_sales_volume\", \"pm_total_sales_price\", \"l3m_total_sales_volume\", \"l3m_total_sales_price\", \"l12m_total_sales_volume\", \"l12m_total_sales_price\", \"pm_numreviews\", \"pm_avgrating\", \"l3m_numreviews\", \"l3m_avgrating\", \"l12m_numreviews\", \"l12m_avgrating\", \"numreviews\", \"avgrating\"], \"datalogmap\": [\"nodeid\", \"yr\", \"mon\", \"total_sales_volume\", \"total_sales_price\", \"pm_total_sales_volume\", \"pm_total_sales_price\", \"l3m_total_sales_volume\", \"l3m_total_sales_price\", \"l12m_total_sales_volume\", \"l12m_total_sales_price\", \"pm_numreviews\", \"pm_avgrating\", \"l3m_numreviews\", \"l3m_avgrating\", \"l12m_numreviews\", \"l12m_avgrating\"]}, \"key\": \"nodeid\", \"source.datalog\": [\"nodeid\", \"yr\", \"mn\", \"sales\", \"vol\", \"pm_sales\", \"pm_vol\", \"p3m_sales\", \"p3m_vol\", \"p12m_sales\", \"p12m_vol\", \"pm_numreviews\", \"pm_avgrating\", \"p3m_numreviews\", \"p3m_avgrating\", \"p12m_numreviews\", \"p12m_avgrating\"]}, {\"table\": \"mlview\", \"source\": {\"wrapper\": \"asterixWrapper\", \"columns\": [\"nodeid\", \"yr\", \"mn\", \"pm_avgsntp\", \"p3m_avgsntp\", \"p12m_avgsntp\"], \"datalogmap\": [\"nodeid\", \"yr\", \"mn\", \"pm_avgsntp\", \"p3m_avgsntp\", \"p12m_avgsntp\"]}, \"key\": \"nodeid\", \"source.datalog\": [\"nodeid\", \"yr\", \"mn\", \"pm_avgsntp\", \"p3m_avgsntp\", \"p12m_avgsntp\"]}]}, \"classification\": {\"datalog\": [\"nodeid\", \"classification\", \"level0\", \"level1\", \"level2\", \"level3\", \"level4\", \"level5\"], \"mapping\": [{\"table\": \"ClassificationInfo\", \"source\": {\"datalogmap\": [\"nodeid\", \"classification\", \"level0\", \"level1\", \"level2\", \"level3\", \"level4\", \"level5\"], \"keys\": [\"nodeid\", \"nodeID\"], \"wrapper\": \"asterixWrapper\", \"table\": \"ClassificationInfo\", \"columns\": [\"nodeID\", \"classification\", \"category.level_0\", \"category.nested.level_1\", \"category.nested.nested.level_2\", \"category.nested.nested.nested.level_3\", \"category.nested.nested.nested.nested.level_4\", \"category.nested.nested.nested.nested.nested.level_5\"], \"view\": \"select c.nodeID as nodeid, c.classification, c.category.level_0 as level0, c.category.nested.level_1 as level1, c.category.nested.nested.level_2 as level2, c.category.nested.nested.nested.level_3 as level3, c.category.nested.nested.nested.nested.level_4 as level4, c.category.nested.nested.nested.nested.nested.level_5 as level5 from ClassificationInfo c\"}, \"source.datalog\": [\"nodeid\", \"classification\", \"level0\", \"level1\", \"level2\", \"level3\", \"level4\", \"level5\"]}]}, \"sales_agg_mn\": {\"datalog\": [\"nodeid\", \"mn\", \"sales\", \"vol\", \"avgprice\", \"rank_sales\", \"rank_vol\"], \"mapping\": [{\"table\": \"sales_agg_mn\", \"source\": {\"table\": \"sales_agg_mn\", \"wrapper\": \"postgresWrapper\", \"columns\": [\"nodeid\", \"mn\", \"sales\", \"vol\", \"avgprice\", \"rank_sales\", \"rank_vol\"], \"datalogmap\": [\"nodeid\", \"mn\", \"sales\", \"vol\", \"avgprice\", \"rank_sales\", \"rank_vol\"]}, \"source.datalog\": [\"nodeid\", \"mn\", \"sales\", \"vol\", \"avgprice\", \"rank_sales\", \"rank_vol\"]}]}, \"sales_agg_yrmn\": {\"datalog\": [\"nodeid\", \"yr\", \"mn\", \"sales\", \"vol\", \"avgprice\"], \"mapping\": [{\"table\": \"sales_agg_yrmn\", \"source\": {\"table\": \"sales_agg_mn\", \"wrapper\": \"postgresWrapper\", \"columns\": [\"nodeid\", \"yr\", \"mn\", \"sales\", \"vol\", \"avgprice\", \"rank_sales\", \"rank_vol\"], \"datalogmap\": [\"nodeid\", \"yr\", \"mn\", \"sales\", \"vol\", \"avgprice\", \"rank_sales\", \"rank_vol\"]}, \"source.datalog\": [\"nodeid\", \"yr\", \"mn\", \"sales\", \"vol\", \"avgprice\"]}]}, \"reviews_agg_yrmn\": {\"datalog\": [\"nodeid\", \"yr\", \"mn\", \"numreviews\", \"avgrating\"], \"mapping\": [{\"table\": \"reviews_agg_yrmn\", \"source\": {\"wrapper\": \"postgresWrapper\", \"columns\": [\"nodeid\", \"yr\", \"mn\", \"numreviews\", \"avgrating\"], \"datalogmap\": [\"nodeid\", \"yr\", \"mn\", \"numreviews\", \"avgrating\"]}, \"source.datalog\": [\"nodeid\", \"yr\", \"mn\", \"numreviews\", \"avgrating\"]}]}, \"sales_agg_yr\": {\"datalog\": [\"nodeid\", \"yr\", \"sales\", \"vol\", \"avgprice\", \"rank_sales\", \"rank_vol\"], \"mapping\": [{\"table\": \"sales_agg_yr\", \"source\": {\"table\": \"sales_agg_yr\", \"wrapper\": \"postgresWrapper\", \"columns\": [\"nodeid\", \"yr\", \"sales\", \"vol\", \"avgprice\", \"rank_sales\", \"rank_vol\"], \"datalogmap\": [\"nodeid\", \"yr\", \"sales\", \"vol\", \"avgprice\", \"rank_sales\", \"rank_vol\"]}, \"source.datalog\": [\"nodeid\", \"yr\", \"sales\", \"vol\", \"avgprice\", \"rank_sales\", \"rank_vol\"]}]}}))\n",
       "        });\n",
       "        "
      ]
     },
     "metadata": {},
     "output_type": "display_data"
    }
   ],
   "source": [
    "RenderJSON(meta)"
   ]
  },
  {
   "cell_type": "code",
   "execution_count": null,
   "metadata": {
    "collapsed": true
   },
   "outputs": [],
   "source": []
  }
 ],
 "metadata": {
  "kernelspec": {
   "display_name": "Python 2",
   "language": "python",
   "name": "python2"
  },
  "language_info": {
   "codemirror_mode": {
    "name": "ipython",
    "version": 2
   },
   "file_extension": ".py",
   "mimetype": "text/x-python",
   "name": "python",
   "nbconvert_exporter": "python",
   "pygments_lexer": "ipython2",
   "version": "2.7.9"
  }
 },
 "nbformat": 4,
 "nbformat_minor": 2
}
