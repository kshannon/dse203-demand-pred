{
 "cells": [
  {
   "cell_type": "code",
   "execution_count": 1,
   "metadata": {
    "collapsed": true
   },
   "outputs": [],
   "source": [
    "from queryengine import QPE"
   ]
  },
  {
   "cell_type": "markdown",
   "metadata": {},
   "source": [
    "### 1) ML query for training data for a super category.\n",
    "### This does not include the sentiment calculations; the last three fields\n",
    "\n",
    "The following creates a QPE engine. This is set up to run against the UCSD instances of postgress and asterix. Then by passing a rudimentary datalog with the nodeids returns data as a dataframe."
   ]
  },
  {
   "cell_type": "code",
   "execution_count": 2,
   "metadata": {},
   "outputs": [
    {
     "name": "stdout",
     "output_type": "stream",
     "text": [
      "---remote----\n",
      "---remote----\n",
      "Ans ( nodeid, yr, mn, sales, vol, pm_sales, pm_vol, p3m_sales, p3m_vol, p12m_sales, p12m_vol, pm_numreviews, pm_avgrating, p3m_numreviews, p3m_avgrating, p12m_numreviews, p12m_avgrating) :- mlfeatures ( nodeid, yr, mn, sales, vol, pm_sales, pm_vol, p3m_sales, p3m_vol, p12m_sales, p12m_vol, pm_numreviews, pm_avgrating, p3m_numreviews, p3m_avgrating, p12m_numreviews, p12m_avgrating,_,_,_), nodeid in (2950,3179,3188,3214,3263,3939,171114,465288,132561011,377550011,6133990011,6343223011,7976022011,8622832011,10806600011)\n",
      "GOT UNFOLDED:Ans(nodeid,yr,mn,sales,vol,pm_sales,pm_vol,p3m_sales,p3m_vol,p12m_sales,p12m_vol,pm_numreviews,pm_avgrating,p3m_numreviews,p3m_avgrating,p12m_numreviews,p12m_avgrating):-S1.mv_ml_features(nodeid,yr,mn,sales,vol,pm_sales,pm_vol,p3m_sales,p3m_vol,p12m_sales,p12m_vol,pm_numreviews,pm_avgrating,p3m_numreviews,p3m_avgrating,p12m_numreviews,p12m_avgrating),nodeid in (2950,3179,3188,3214,3263,3939,171114,465288,132561011,377550011,6133990011,6343223011,7976022011,8622832011,10806600011)\n",
      "checking object in selectClause\n",
      "{'source': u'S1', 'predicate': u'mv_ml_features', 'alias': 'QZH', 'atoms': [u'nodeid', u'yr', u'mn', u'sales', u'vol', u'pm_sales', u'pm_vol', u'p3m_sales', u'p3m_vol', u'p12m_sales', u'p12m_vol', u'pm_numreviews', u'pm_avgrating', u'p3m_numreviews', u'p3m_avgrating', u'p12m_numreviews', u'p12m_avgrating']}\n",
      "Postgres SQL: SELECT QZH.nodeid,QZH.yr,QZH.mn,QZH.sales,QZH.vol,QZH.pm_sales,QZH.pm_vol,QZH.p3m_sales,QZH.p3m_vol,QZH.p12m_sales,QZH.p12m_vol,QZH.pm_numreviews,QZH.pm_avgrating,QZH.p3m_numreviews,QZH.p3m_avgrating,QZH.p12m_numreviews,QZH.p12m_avgrating FROM mv_ml_features AS QZH WHERE nodeid in (2950,3179,3188,3214,3263,3939,171114,465288,132561011,377550011,6133990011,6343223011,7976022011,8622832011,10806600011)\n",
      "   nodeid    yr  mn  sales  vol  pm_sales  pm_vol  p3m_sales  p3m_vol  \\\n",
      "0    2950  2009   1    0.0    0       0.0       0        0.0      0.0   \n",
      "1    2950  2009   2    0.0    0       0.0       0        0.0      0.0   \n",
      "2    2950  2009   3    0.0    0       0.0       0        0.0      0.0   \n",
      "3    2950  2009   4    0.0    0       0.0       0        0.0      0.0   \n",
      "4    2950  2009   5    0.0    0       0.0       0        0.0      0.0   \n",
      "\n",
      "   p12m_sales  p12m_vol  pm_numreviews  pm_avgrating  p3m_numreviews  \\\n",
      "0         0.0       0.0            0.0           0.0             0.0   \n",
      "1         0.0       0.0            0.0           0.0             0.0   \n",
      "2         0.0       0.0            0.0           0.0             0.0   \n",
      "3         0.0       0.0            0.0           0.0             0.0   \n",
      "4         0.0       0.0            0.0           0.0             0.0   \n",
      "\n",
      "   p3m_avgrating  p12m_numreviews  p12m_avgrating  \n",
      "0            0.0              0.0             0.0  \n",
      "1            0.0              0.0             0.0  \n",
      "2            0.0              0.0             0.0  \n",
      "3            0.0              0.0             0.0  \n",
      "4            0.0              0.0             0.0  \n",
      "Ans ( nodeid, yr, mn, sales, vol, pm_sales, pm_vol, p3m_sales, p3m_vol, p12m_sales, p12m_vol, pm_numreviews, pm_avgrating, p3m_numreviews, p3m_avgrating, p12m_numreviews, p12m_avgrating) :- mlfeatures ( nodeid, yr, mn, sales, vol, pm_sales, pm_vol, p3m_sales, p3m_vol, p12m_sales, p12m_vol, pm_numreviews, pm_avgrating, p3m_numreviews, p3m_avgrating, p12m_numreviews, p12m_avgrating,_,_,_), nodeid in (2672,2946,3122,3131,3167,3185,3200,3215,3262,3279,3610,3612,3616,3981,3987,4134,4676,5322,13682,688868,720028,882340,13998731,15375251,16244041,16244061,713347011,3564978011,3564986011,7009088011,8883852011,8883853011,8883961011,8951155011,8951160011,8951165011,8951173011,8951174011,8951191011)\n",
      "GOT UNFOLDED:Ans(nodeid,yr,mn,sales,vol,pm_sales,pm_vol,p3m_sales,p3m_vol,p12m_sales,p12m_vol,pm_numreviews,pm_avgrating,p3m_numreviews,p3m_avgrating,p12m_numreviews,p12m_avgrating):-S1.mv_ml_features(nodeid,yr,mn,sales,vol,pm_sales,pm_vol,p3m_sales,p3m_vol,p12m_sales,p12m_vol,pm_numreviews,pm_avgrating,p3m_numreviews,p3m_avgrating,p12m_numreviews,p12m_avgrating),nodeid in (2672,2946,3122,3131,3167,3185,3200,3215,3262,3279,3610,3612,3616,3981,3987,4134,4676,5322,13682,688868,720028,882340,13998731,15375251,16244041,16244061,713347011,3564978011,3564986011,7009088011,8883852011,8883853011,8883961011,8951155011,8951160011,8951165011,8951173011,8951174011,8951191011)\n",
      "checking object in selectClause\n",
      "{'source': u'S1', 'predicate': u'mv_ml_features', 'alias': 'QTE', 'atoms': [u'nodeid', u'yr', u'mn', u'sales', u'vol', u'pm_sales', u'pm_vol', u'p3m_sales', u'p3m_vol', u'p12m_sales', u'p12m_vol', u'pm_numreviews', u'pm_avgrating', u'p3m_numreviews', u'p3m_avgrating', u'p12m_numreviews', u'p12m_avgrating']}\n",
      "Postgres SQL: SELECT QTE.nodeid,QTE.yr,QTE.mn,QTE.sales,QTE.vol,QTE.pm_sales,QTE.pm_vol,QTE.p3m_sales,QTE.p3m_vol,QTE.p12m_sales,QTE.p12m_vol,QTE.pm_numreviews,QTE.pm_avgrating,QTE.p3m_numreviews,QTE.p3m_avgrating,QTE.p12m_numreviews,QTE.p12m_avgrating FROM mv_ml_features AS QTE WHERE nodeid in (2672,2946,3122,3131,3167,3185,3200,3215,3262,3279,3610,3612,3616,3981,3987,4134,4676,5322,13682,688868,720028,882340,13998731,15375251,16244041,16244061,713347011,3564978011,3564986011,7009088011,8883852011,8883853011,8883961011,8951155011,8951160011,8951165011,8951173011,8951174011,8951191011)\n",
      "   nodeid    yr  mn  sales  vol  pm_sales  pm_vol  p3m_sales  p3m_vol  \\\n",
      "0    3981  2009   1    0.0    0       0.0       0        0.0      0.0   \n",
      "1    3981  2009   2    0.0    0       0.0       0        0.0      0.0   \n",
      "2    3981  2009   3    0.0    0       0.0       0        0.0      0.0   \n",
      "3    3981  2009   4    0.0    0       0.0       0        0.0      0.0   \n",
      "4    3981  2009   5    0.0    0       0.0       0        0.0      0.0   \n",
      "\n",
      "   p12m_sales  p12m_vol  pm_numreviews  pm_avgrating  p3m_numreviews  \\\n",
      "0         0.0       0.0            0.0           0.0             0.0   \n",
      "1         0.0       0.0            0.0           0.0             0.0   \n",
      "2         0.0       0.0            0.0           0.0             0.0   \n",
      "3         0.0       0.0            0.0           0.0             0.0   \n",
      "4         0.0       0.0            0.0           0.0             0.0   \n",
      "\n",
      "   p3m_avgrating  p12m_numreviews  p12m_avgrating  \n",
      "0            0.0              0.0             0.0  \n",
      "1            0.0              0.0             0.0  \n",
      "2            0.0              0.0             0.0  \n",
      "3            0.0              0.0             0.0  \n",
      "4            0.0              0.0             0.0  \n",
      "Ans ( nodeid, yr, mn, sales, vol, pm_sales, pm_vol, p3m_sales, p3m_vol, p12m_sales, p12m_vol, pm_numreviews, pm_avgrating, p3m_numreviews, p3m_avgrating, p12m_numreviews, p12m_avgrating) :- mlfeatures ( nodeid, yr, mn, sales, vol, pm_sales, pm_vol, p3m_sales, p3m_vol, p12m_sales, p12m_vol, pm_numreviews, pm_avgrating, p3m_numreviews, p3m_avgrating, p12m_numreviews, p12m_avgrating,_,_,_), nodeid in (1002,1007,2963,3094,3291,3527,4263,4278,282838,8883838011,8951153011,9432890011,9432902011)\n",
      "GOT UNFOLDED:Ans(nodeid,yr,mn,sales,vol,pm_sales,pm_vol,p3m_sales,p3m_vol,p12m_sales,p12m_vol,pm_numreviews,pm_avgrating,p3m_numreviews,p3m_avgrating,p12m_numreviews,p12m_avgrating):-S1.mv_ml_features(nodeid,yr,mn,sales,vol,pm_sales,pm_vol,p3m_sales,p3m_vol,p12m_sales,p12m_vol,pm_numreviews,pm_avgrating,p3m_numreviews,p3m_avgrating,p12m_numreviews,p12m_avgrating),nodeid in (1002,1007,2963,3094,3291,3527,4263,4278,282838,8883838011,8951153011,9432890011,9432902011)\n",
      "checking object in selectClause\n",
      "{'source': u'S1', 'predicate': u'mv_ml_features', 'alias': 'GUI', 'atoms': [u'nodeid', u'yr', u'mn', u'sales', u'vol', u'pm_sales', u'pm_vol', u'p3m_sales', u'p3m_vol', u'p12m_sales', u'p12m_vol', u'pm_numreviews', u'pm_avgrating', u'p3m_numreviews', u'p3m_avgrating', u'p12m_numreviews', u'p12m_avgrating']}\n",
      "Postgres SQL: SELECT GUI.nodeid,GUI.yr,GUI.mn,GUI.sales,GUI.vol,GUI.pm_sales,GUI.pm_vol,GUI.p3m_sales,GUI.p3m_vol,GUI.p12m_sales,GUI.p12m_vol,GUI.pm_numreviews,GUI.pm_avgrating,GUI.p3m_numreviews,GUI.p3m_avgrating,GUI.p12m_numreviews,GUI.p12m_avgrating FROM mv_ml_features AS GUI WHERE nodeid in (1002,1007,2963,3094,3291,3527,4263,4278,282838,8883838011,8951153011,9432890011,9432902011)\n",
      "   nodeid    yr  mn  sales  vol  pm_sales  pm_vol  p3m_sales  p3m_vol  \\\n",
      "0  282838  2009   1    0.0    0       0.0       0        0.0      0.0   \n",
      "1  282838  2009   2    0.0    0       0.0       0        0.0      0.0   \n",
      "2  282838  2009   3    0.0    0       0.0       0        0.0      0.0   \n",
      "3  282838  2009   4    0.0    0       0.0       0        0.0      0.0   \n",
      "4  282838  2009   5    0.0    0       0.0       0        0.0      0.0   \n",
      "\n",
      "   p12m_sales  p12m_vol  pm_numreviews  pm_avgrating  p3m_numreviews  \\\n",
      "0         0.0       0.0            0.0           0.0             0.0   \n",
      "1         0.0       0.0            0.0           0.0             0.0   \n",
      "2         0.0       0.0            0.0           0.0             0.0   \n",
      "3         0.0       0.0            0.0           0.0             0.0   \n",
      "4         0.0       0.0            0.0           0.0             0.0   \n",
      "\n",
      "   p3m_avgrating  p12m_numreviews  p12m_avgrating  \n",
      "0            0.0              0.0             0.0  \n",
      "1            0.0              0.0             0.0  \n",
      "2            0.0              0.0             0.0  \n",
      "3            0.0              0.0             0.0  \n",
      "4            0.0              0.0             0.0  \n",
      "Ans ( nodeid, yr, mn, sales, vol, pm_sales, pm_vol, p3m_sales, p3m_vol, p12m_sales, p12m_vol, pm_numreviews, pm_avgrating, p3m_numreviews, p3m_avgrating, p12m_numreviews, p12m_avgrating) :- mlfeatures ( nodeid, yr, mn, sales, vol, pm_sales, pm_vol, p3m_sales, p3m_vol, p12m_sales, p12m_vol, pm_numreviews, pm_avgrating, p3m_numreviews, p3m_avgrating, p12m_numreviews, p12m_avgrating,_,_,_), nodeid in (2945,3220,4296,282840,8883864011,8883963011,8944264011,9432900011)\n",
      "GOT UNFOLDED:Ans(nodeid,yr,mn,sales,vol,pm_sales,pm_vol,p3m_sales,p3m_vol,p12m_sales,p12m_vol,pm_numreviews,pm_avgrating,p3m_numreviews,p3m_avgrating,p12m_numreviews,p12m_avgrating):-S1.mv_ml_features(nodeid,yr,mn,sales,vol,pm_sales,pm_vol,p3m_sales,p3m_vol,p12m_sales,p12m_vol,pm_numreviews,pm_avgrating,p3m_numreviews,p3m_avgrating,p12m_numreviews,p12m_avgrating),nodeid in (2945,3220,4296,282840,8883864011,8883963011,8944264011,9432900011)\n",
      "checking object in selectClause\n",
      "{'source': u'S1', 'predicate': u'mv_ml_features', 'alias': 'HUJ', 'atoms': [u'nodeid', u'yr', u'mn', u'sales', u'vol', u'pm_sales', u'pm_vol', u'p3m_sales', u'p3m_vol', u'p12m_sales', u'p12m_vol', u'pm_numreviews', u'pm_avgrating', u'p3m_numreviews', u'p3m_avgrating', u'p12m_numreviews', u'p12m_avgrating']}\n",
      "Postgres SQL: SELECT HUJ.nodeid,HUJ.yr,HUJ.mn,HUJ.sales,HUJ.vol,HUJ.pm_sales,HUJ.pm_vol,HUJ.p3m_sales,HUJ.p3m_vol,HUJ.p12m_sales,HUJ.p12m_vol,HUJ.pm_numreviews,HUJ.pm_avgrating,HUJ.p3m_numreviews,HUJ.p3m_avgrating,HUJ.p12m_numreviews,HUJ.p12m_avgrating FROM mv_ml_features AS HUJ WHERE nodeid in (2945,3220,4296,282840,8883864011,8883963011,8944264011,9432900011)\n"
     ]
    },
    {
     "name": "stdout",
     "output_type": "stream",
     "text": [
      "   nodeid    yr  mn  sales  vol  pm_sales  pm_vol  p3m_sales  p3m_vol  \\\n",
      "0    2945  2009   1    0.0    0       0.0       0        0.0      0.0   \n",
      "1    2945  2009   2    0.0    0       0.0       0        0.0      0.0   \n",
      "2    2945  2009   3    0.0    0       0.0       0        0.0      0.0   \n",
      "3    2945  2009   4    0.0    0       0.0       0        0.0      0.0   \n",
      "4    2945  2009   5    0.0    0       0.0       0        0.0      0.0   \n",
      "\n",
      "   p12m_sales  p12m_vol  pm_numreviews  pm_avgrating  p3m_numreviews  \\\n",
      "0         0.0       0.0            0.0           0.0             0.0   \n",
      "1         0.0       0.0            0.0           0.0             0.0   \n",
      "2         0.0       0.0            0.0           0.0             0.0   \n",
      "3         0.0       0.0            0.0           0.0             0.0   \n",
      "4         0.0       0.0            0.0           0.0             0.0   \n",
      "\n",
      "   p3m_avgrating  p12m_numreviews  p12m_avgrating  \n",
      "0            0.0              0.0             0.0  \n",
      "1            0.0              0.0             0.0  \n",
      "2            0.0              0.0             0.0  \n",
      "3            0.0              0.0             0.0  \n",
      "4            0.0              0.0             0.0  \n"
     ]
    }
   ],
   "source": [
    "## Modified removing sentiment\n",
    "supercategories = [[2950,3179,3188,3214,3263,3939,171114,465288,132561011,377550011,6133990011,6343223011,7976022011,8622832011,10806600011],\n",
    "[ 2672,2946,3122,3131,3167,3185,3200,3215,3262,3279,3610,3612,3616,3981,3987,4134,4676,5322,13682,688868,720028,882340,13998731,15375251,16244041,16244061,713347011,3564978011,3564986011,7009088011,8883852011,8883853011,8883961011,8951155011,8951160011,8951165011,8951173011,8951174011,8951191011],\n",
    "[1002,1007,2963,3094,3291,3527,4263,4278,282838,8883838011,8951153011,9432890011,9432902011 ],\n",
    "[2945, 3220, 4296, 282840, 8883864011, 8883963011, 8944264011, 9432900011]]\n",
    "\n",
    "qengine = QPE()\n",
    "\n",
    "for supercat in supercategories:\n",
    "    catlist = ','.join([str(i) for i in supercat])\n",
    "    query = \"Ans ( nodeid, yr, mn, sales, vol, pm_sales, pm_vol, p3m_sales, p3m_vol, \\\n",
    "p12m_sales, p12m_vol, pm_numreviews, pm_avgrating, p3m_numreviews, p3m_avgrating, \\\n",
    "p12m_numreviews, p12m_avgrating) :- mlfeatures ( nodeid, yr, mn, sales, vol, pm_sales, \\\n",
    "pm_vol, p3m_sales, p3m_vol, p12m_sales, p12m_vol, pm_numreviews, pm_avgrating, p3m_numreviews, \\\n",
    "p3m_avgrating, p12m_numreviews, p12m_avgrating,_,_,_), nodeid in (%s)\" % (catlist)\n",
    "    print query\n",
    "    df = qengine.get_dataframe(query)\n",
    "    print df.head()"
   ]
  },
  {
   "cell_type": "markdown",
   "metadata": {},
   "source": [
    "### 4) Analytical query : Top 3 categories by sales around Christmas"
   ]
  },
  {
   "cell_type": "code",
   "execution_count": 3,
   "metadata": {},
   "outputs": [
    {
     "name": "stdout",
     "output_type": "stream",
     "text": [
      "GOT UNFOLDED:Ans(nodeid,sales):-S1.sales_agg_mn(nodeid,mn,sales,_,_,_,_),mn=12,rank_sales<=3\n",
      "checking object in selectClause\n",
      "{'source': u'S1', 'predicate': u'sales_agg_mn', 'alias': 'HPQ', 'atoms': [u'nodeid', u'mn', u'sales', u'_', u'_', u'_', u'_']}\n",
      "Postgres SQL: SELECT HPQ.nodeid,HPQ.mn,HPQ.sales FROM sales_agg_mn AS HPQ WHERE mn = 12 AND rank_sales <= 3\n"
     ]
    },
    {
     "data": {
      "text/html": [
       "<div>\n",
       "<style>\n",
       "    .dataframe thead tr:only-child th {\n",
       "        text-align: right;\n",
       "    }\n",
       "\n",
       "    .dataframe thead th {\n",
       "        text-align: left;\n",
       "    }\n",
       "\n",
       "    .dataframe tbody tr th {\n",
       "        vertical-align: top;\n",
       "    }\n",
       "</style>\n",
       "<table border=\"1\" class=\"dataframe\">\n",
       "  <thead>\n",
       "    <tr style=\"text-align: right;\">\n",
       "      <th></th>\n",
       "      <th>nodeid</th>\n",
       "      <th>sales</th>\n",
       "    </tr>\n",
       "  </thead>\n",
       "  <tbody>\n",
       "    <tr>\n",
       "      <th>0</th>\n",
       "      <td>2672</td>\n",
       "      <td>48732.10</td>\n",
       "    </tr>\n",
       "    <tr>\n",
       "      <th>1</th>\n",
       "      <td>9432891011</td>\n",
       "      <td>42420.36</td>\n",
       "    </tr>\n",
       "    <tr>\n",
       "      <th>2</th>\n",
       "      <td>713347011</td>\n",
       "      <td>41075.30</td>\n",
       "    </tr>\n",
       "  </tbody>\n",
       "</table>\n",
       "</div>"
      ],
      "text/plain": [
       "       nodeid     sales\n",
       "0        2672  48732.10\n",
       "1  9432891011  42420.36\n",
       "2   713347011  41075.30"
      ]
     },
     "execution_count": 3,
     "metadata": {},
     "output_type": "execute_result"
    }
   ],
   "source": [
    "query = '''Ans ( nodeid, sales) :- \n",
    "sales_agg_mn(nodeid, mn, sales,_,_,_,_) , mn=12, rank_sales<=3'''\n",
    "\n",
    "df = qengine.get_dataframe(query)\n",
    "df"
   ]
  },
  {
   "cell_type": "markdown",
   "metadata": {},
   "source": [
    "### 5) Analytical query : Top 3 categories by volume around Christmas"
   ]
  },
  {
   "cell_type": "code",
   "execution_count": 4,
   "metadata": {},
   "outputs": [
    {
     "name": "stdout",
     "output_type": "stream",
     "text": [
      "GOT UNFOLDED:Ans(nodeid,sales,vol):-S1.sales_agg_mn(nodeid,mn,sales,vol,_,_,_),mn=12,rank_vol<=3\n",
      "checking object in selectClause\n",
      "{'source': u'S1', 'predicate': u'sales_agg_mn', 'alias': 'ICU', 'atoms': [u'nodeid', u'mn', u'sales', u'vol', u'_', u'_', u'_']}\n",
      "Postgres SQL: SELECT ICU.nodeid,ICU.mn,ICU.sales,ICU.vol FROM sales_agg_mn AS ICU WHERE mn = 12 AND rank_vol <= 3\n"
     ]
    },
    {
     "data": {
      "text/html": [
       "<div>\n",
       "<style>\n",
       "    .dataframe thead tr:only-child th {\n",
       "        text-align: right;\n",
       "    }\n",
       "\n",
       "    .dataframe thead th {\n",
       "        text-align: left;\n",
       "    }\n",
       "\n",
       "    .dataframe tbody tr th {\n",
       "        vertical-align: top;\n",
       "    }\n",
       "</style>\n",
       "<table border=\"1\" class=\"dataframe\">\n",
       "  <thead>\n",
       "    <tr style=\"text-align: right;\">\n",
       "      <th></th>\n",
       "      <th>nodeid</th>\n",
       "      <th>sales</th>\n",
       "      <th>vol</th>\n",
       "    </tr>\n",
       "  </thead>\n",
       "  <tbody>\n",
       "    <tr>\n",
       "      <th>0</th>\n",
       "      <td>5367</td>\n",
       "      <td>0.00</td>\n",
       "      <td>5409</td>\n",
       "    </tr>\n",
       "    <tr>\n",
       "      <th>1</th>\n",
       "      <td>9432902011</td>\n",
       "      <td>31013.76</td>\n",
       "      <td>3817</td>\n",
       "    </tr>\n",
       "    <tr>\n",
       "      <th>2</th>\n",
       "      <td>8883853011</td>\n",
       "      <td>15982.10</td>\n",
       "      <td>2914</td>\n",
       "    </tr>\n",
       "  </tbody>\n",
       "</table>\n",
       "</div>"
      ],
      "text/plain": [
       "       nodeid     sales   vol\n",
       "0        5367      0.00  5409\n",
       "1  9432902011  31013.76  3817\n",
       "2  8883853011  15982.10  2914"
      ]
     },
     "execution_count": 4,
     "metadata": {},
     "output_type": "execute_result"
    }
   ],
   "source": [
    "query = '''Ans ( nodeid, sales,vol) :- \n",
    "sales_agg_mn(nodeid, mn, sales, vol,_,_,_) , mn=12, rank_vol<=3\n",
    "'''\n",
    "\n",
    "df = qengine.get_dataframe(query)\n",
    "df"
   ]
  },
  {
   "cell_type": "markdown",
   "metadata": {},
   "source": [
    "### 6) Analytical query : Top 3 categories by sales last year"
   ]
  },
  {
   "cell_type": "code",
   "execution_count": 5,
   "metadata": {},
   "outputs": [
    {
     "name": "stdout",
     "output_type": "stream",
     "text": [
      "GOT UNFOLDED:Ans(nodeid,sales):-S1.sales_agg_yr(nodeid,yr,sales,_,_,_,_),yr=2016,rank_sales<=3\n",
      "checking object in selectClause\n",
      "{'source': u'S1', 'predicate': u'sales_agg_yr', 'alias': 'JRM', 'atoms': [u'nodeid', u'yr', u'sales', u'_', u'_', u'_', u'_']}\n",
      "Postgres SQL: SELECT JRM.nodeid,JRM.yr,JRM.sales FROM sales_agg_yr AS JRM WHERE yr = 2016 AND rank_sales <= 3\n"
     ]
    },
    {
     "data": {
      "text/html": [
       "<div>\n",
       "<style>\n",
       "    .dataframe thead tr:only-child th {\n",
       "        text-align: right;\n",
       "    }\n",
       "\n",
       "    .dataframe thead th {\n",
       "        text-align: left;\n",
       "    }\n",
       "\n",
       "    .dataframe tbody tr th {\n",
       "        vertical-align: top;\n",
       "    }\n",
       "</style>\n",
       "<table border=\"1\" class=\"dataframe\">\n",
       "  <thead>\n",
       "    <tr style=\"text-align: right;\">\n",
       "      <th></th>\n",
       "      <th>nodeid</th>\n",
       "      <th>sales</th>\n",
       "    </tr>\n",
       "  </thead>\n",
       "  <tbody>\n",
       "    <tr>\n",
       "      <th>0</th>\n",
       "      <td>5322</td>\n",
       "      <td>61089.70</td>\n",
       "    </tr>\n",
       "    <tr>\n",
       "      <th>1</th>\n",
       "      <td>5023</td>\n",
       "      <td>60315.75</td>\n",
       "    </tr>\n",
       "    <tr>\n",
       "      <th>2</th>\n",
       "      <td>465238</td>\n",
       "      <td>35366.97</td>\n",
       "    </tr>\n",
       "  </tbody>\n",
       "</table>\n",
       "</div>"
      ],
      "text/plain": [
       "   nodeid     sales\n",
       "0    5322  61089.70\n",
       "1    5023  60315.75\n",
       "2  465238  35366.97"
      ]
     },
     "execution_count": 5,
     "metadata": {},
     "output_type": "execute_result"
    }
   ],
   "source": [
    "query = '''Ans ( nodeid, sales) :- \n",
    "sales_agg_yr(nodeid, yr, sales,_,_,_,_) , yr = 2016, rank_sales<=3\n",
    "'''\n",
    "\n",
    "df = qengine.get_dataframe(query)\n",
    "df"
   ]
  },
  {
   "cell_type": "code",
   "execution_count": null,
   "metadata": {
    "collapsed": true
   },
   "outputs": [],
   "source": []
  }
 ],
 "metadata": {
  "kernelspec": {
   "display_name": "Python 2",
   "language": "python",
   "name": "python2"
  },
  "language_info": {
   "codemirror_mode": {
    "name": "ipython",
    "version": 2
   },
   "file_extension": ".py",
   "mimetype": "text/x-python",
   "name": "python",
   "nbconvert_exporter": "python",
   "pygments_lexer": "ipython2",
   "version": "2.7.9"
  }
 },
 "nbformat": 4,
 "nbformat_minor": 2
}
